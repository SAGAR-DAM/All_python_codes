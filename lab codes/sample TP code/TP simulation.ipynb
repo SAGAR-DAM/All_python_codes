{
 "cells": [
  {
   "cell_type": "markdown",
   "id": "03cbd9a2",
   "metadata": {},
   "source": [
    "# -*- coding: utf-8 -*-\n",
    "\"\"\"\n",
    "Created on Wed Mar 26 11:55:40 2025\n",
    "\n",
    "@author: mrsag\n",
    "\"\"\"\n",
    "\n",
    "Simulation of Thomson parabola for given \n",
    "1. Electric field (E) (taken from V/d)\n",
    "2. Magnetic Field (B)\n",
    "3. Electric field length (lE)\n",
    "4. Magnetic field length (lB)\n",
    "5. Distance of screen from electric field region endpoint (DE)\n",
    "6. Distance of screen from magnetic field region endpoint (DB)\n",
    "7. Charge of the particle in terms of proton charge (q)\n",
    "8. Mass of particle (in terms of electron mass)"
   ]
  },
  {
   "cell_type": "code",
   "execution_count": 237,
   "id": "e0fa17dc",
   "metadata": {},
   "outputs": [],
   "source": [
    "import pandas as pd\n",
    "import numpy as np\n",
    "import matplotlib.pyplot as plt\n",
    "from skimage import io\n",
    "import scipy.integrate as integrate\n",
    "from Curve_fitting_with_scipy import polynomial_fit as pft\n",
    "import glob\n",
    "\n",
    "import matplotlib as mpl\n",
    "mpl.rcParams['font.family'] = 'serif'\n",
    "mpl.rcParams['font.serif'] = 'Times New Roman'\n",
    "mpl.rcParams['font.size'] = 12\n",
    "#mpl.rcParams['font.weight'] = 'bold'\n",
    "#mpl.rcParams['font.style'] = 'italic'  # Set this to 'italic'\n",
    "mpl.rcParams['figure.dpi']=300 # highres display"
   ]
  },
  {
   "cell_type": "code",
   "execution_count": 238,
   "id": "e92205aa",
   "metadata": {},
   "outputs": [],
   "source": [
    "# Defining constants:\n",
    "cm = 1e-2\n",
    "mm = 1e-3\n",
    "e = 1.6e-19\n",
    "me = 9.11e-31\n",
    "keV_to_Joule = 1.6e-16"
   ]
  },
  {
   "cell_type": "code",
   "execution_count": null,
   "id": "207045e2",
   "metadata": {},
   "outputs": [],
   "source": [
    "# Input parameters:\n",
    "\n",
    "V = 12000 # Potential difference in between the cathode and anode (V)   (in Volts)\n",
    "d = 5*cm # distance over which the electric field is being applied (in cm)\n",
    "E_field = V/d # electric field (in Volts/m))\n",
    "B_field = 0.45 # Magnetic Field (B)  (in Tesla)\n",
    "lE = 15*cm # Electric field length (lE)  (in cm)\n",
    "lB = 10*cm  # Magnetic field length (lB)  (in cm)\n",
    "DE = 40*cm # Distance of screen from electric field region endpoint (DE)  (in cm)\n",
    "DB = 30*cm # Distance of screen from magnetic field region endpoint (DB)  (in cm)\n",
    "q = 1*e # Charge of the particle in terms of proton charge (q)\n",
    "m = 1836*me # Mass of particle (in terms of electron mass)\n",
    "\n",
    "\n",
    "Energy = 32000*keV_to_Joule  # Energy of the particle (in keV)\n",
    "v = np.sqrt(2*Energy/m) # calculates in Si unit\n",
    "\n",
    "x = 0\n",
    "y = 0\n",
    "z = -max([lE+DE,lB+DB])\n",
    "\n",
    "vx = 0\n",
    "vy = 0\n",
    "vz = v\n",
    "\n",
    "time_resolution = 10000\n",
    "t_max = 50*max([lE+DE,lB+DB])/v\n",
    "t = np.linspace(0,t_max,time_resolution)\n",
    "dt = np.diff(t)[0]\n"
   ]
  },
  {
   "cell_type": "code",
   "execution_count": 240,
   "id": "7e339f53",
   "metadata": {},
   "outputs": [],
   "source": [
    "class particle():\n",
    "    def __init__(self,x,y,z,vx,vy,vz,q,m):\n",
    "        self.x = x\n",
    "        self.y = y\n",
    "        self.z = z\n",
    "        self.vx = vx\n",
    "        self.vy = vy\n",
    "        self.vz = vz\n",
    "        self.q = q\n",
    "        self.m = m\n",
    "        self.v = np.sqrt(vx**2+vy**2+vz**2)\n",
    "        self.Energy = m*self.v**2/2\n",
    "    \n",
    "\n",
    "    def propagator(self):\n",
    "        global t\n",
    "        global dt\n",
    "        global B_field\n",
    "        global E_field\n",
    "        global DE\n",
    "        global DB\n",
    "        global lE\n",
    "        global lB\n",
    "\n",
    "        for i in range(len(t)):\n",
    "            if(self.z>=0):\n",
    "                print(\"broke\")\n",
    "                break\n",
    "            \n",
    "            if(DE+lE>=abs(self.z)>DE):\n",
    "                E = E_field\n",
    "            else:\n",
    "                E = 0\n",
    "            if(DB+lB>=abs(self.z)>DB):\n",
    "                B = B_field\n",
    "            else:\n",
    "                B = 0\n",
    "\n",
    "            Fx = self.q*E\n",
    "            Fy = self.q*self.vz*B\n",
    "            Fz = -self.q*self.vy*B\n",
    "\n",
    "            ax,ay,az = Fx/self.m, Fy/self.m, Fz/self.m\n",
    "\n",
    "            self.x += self.vx*dt + ax*dt**2/2\n",
    "            self.y += self.vy*dt + ay*dt**2/2\n",
    "            self.z += self.vz*dt + az*dt**2/2\n",
    "\n",
    "            self.vx += ax*dt\n",
    "            self.vy += ay*dt\n",
    "            self.vz += az*dt\n",
    "\n",
    "            # print(vz)\n",
    "\n",
    "            self.v = np.sqrt(self.vx**2+self.vy**2+self.vz**2)\n",
    "            self.E = self.m*self.v**2/2\n",
    "\n",
    "        if(abs(self.z)<max([lE+DE,lB+DB])/100):\n",
    "            return self.x,self.y,self.z  #,self.z,self.E,self.v\n",
    "        else:\n",
    "            return np.nan,np.nan,self.z"
   ]
  },
  {
   "cell_type": "code",
   "execution_count": null,
   "id": "21c74853",
   "metadata": {},
   "outputs": [
    {
     "name": "stdout",
     "output_type": "stream",
     "text": [
      "broke\n",
      "0.27067346792435054\n"
     ]
    }
   ],
   "source": [
    "p = []\n"
   ]
  }
 ],
 "metadata": {
  "kernelspec": {
   "display_name": "base",
   "language": "python",
   "name": "python3"
  },
  "language_info": {
   "codemirror_mode": {
    "name": "ipython",
    "version": 3
   },
   "file_extension": ".py",
   "mimetype": "text/x-python",
   "name": "python",
   "nbconvert_exporter": "python",
   "pygments_lexer": "ipython3",
   "version": "3.12.7"
  }
 },
 "nbformat": 4,
 "nbformat_minor": 5
}
