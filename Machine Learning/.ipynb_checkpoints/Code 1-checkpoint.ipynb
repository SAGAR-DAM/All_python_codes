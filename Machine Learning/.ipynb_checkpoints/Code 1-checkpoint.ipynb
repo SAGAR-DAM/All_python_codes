{
 "cells": [
  {
   "cell_type": "code",
   "execution_count": 2,
   "id": "e8718939",
   "metadata": {},
   "outputs": [],
   "source": [
    "import numpy as np\n",
    "import matplotlib.pyplot as plt"
   ]
  },
  {
   "cell_type": "code",
   "execution_count": 3,
   "id": "e101b986",
   "metadata": {},
   "outputs": [],
   "source": [
    "n0=3\n",
    "n1=2\n",
    "\n",
    "w=np.random.uniform(low=-1,high=+1, size=(n1,n0))\n",
    "b=np.random.uniform(low=-1,high=+1, size=n1)"
   ]
  },
  {
   "cell_type": "code",
   "execution_count": 4,
   "id": "cc3b70fb",
   "metadata": {},
   "outputs": [],
   "source": [
    "y_in=np.array([0.1,0.2,0.3])\n",
    "\n",
    "z=np.dot(w,y_in)+b\n",
    "y_out=1/(1+np.exp(-z))"
   ]
  },
  {
   "cell_type": "code",
   "execution_count": 7,
   "id": "57e953a7",
   "metadata": {},
   "outputs": [
    {
     "name": "stdout",
     "output_type": "stream",
     "text": [
      "W:  [[-0.3275174   0.1979903   0.12766686]\n",
      " [-0.552731   -0.32325495  0.61895011]]\n",
      "y_in :   [0.1 0.2 0.3]\n",
      "b:  [-0.19171312 -0.10867206]\n",
      "z:  [-0.14656674 -0.04291112]\n",
      "y_out:  [0.53657623 0.51072613]\n"
     ]
    }
   ],
   "source": [
    "print(\"W: \",w)\n",
    "print(\"y_in :  \",y_in)\n",
    "print(\"b: \",b)\n",
    "print(\"z: \",z)\n",
    "print(\"y_out: \",y_out)"
   ]
  },
  {
   "cell_type": "code",
   "execution_count": null,
   "id": "13038883",
   "metadata": {},
   "outputs": [],
   "source": []
  }
 ],
 "metadata": {
  "kernelspec": {
   "display_name": "Python 3 (ipykernel)",
   "language": "python",
   "name": "python3"
  },
  "language_info": {
   "codemirror_mode": {
    "name": "ipython",
    "version": 3
   },
   "file_extension": ".py",
   "mimetype": "text/x-python",
   "name": "python",
   "nbconvert_exporter": "python",
   "pygments_lexer": "ipython3",
   "version": "3.9.13"
  }
 },
 "nbformat": 4,
 "nbformat_minor": 5
}
