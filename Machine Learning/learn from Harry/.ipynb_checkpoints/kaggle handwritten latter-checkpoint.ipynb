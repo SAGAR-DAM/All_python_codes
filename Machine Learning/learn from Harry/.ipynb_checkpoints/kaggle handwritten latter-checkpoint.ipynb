{
 "cells": [
  {
   "cell_type": "markdown",
   "id": "82dcca73-2379-46fc-b9ff-b710ff0e0146",
   "metadata": {},
   "source": [
    "<h1 style=\"color:green; font-family:Georgia\">\n",
    "Machine Learning for KAGGLE Handwritten letter recognition ::\n",
    "</h1>"
   ]
  },
  {
   "cell_type": "markdown",
   "id": "65ae2823-d70b-432c-8b4f-99403505fbf0",
   "metadata": {},
   "source": [
    "<span style = \"font-family:Geogia; color:orange; font-size:14px\">\n",
    "<h5 style=\"color:red; font-family:Georgia; text-decoration: underline\">About Dataset :<h5>\n",
    "Context: Consist 28$\\times$28 handwritten Alphabet images <br>\n",
    "\n",
    "<h5 style=\"color:red; font-family:Georgia; text-decoration: underline\">Content</h5>\n",
    "There are total 785 columns, each row consists an image of alphabets. The first coloumn represents the alphabet numbering from 0-25 as A-Z.<br>\n",
    "data URL: https://www.kaggle.com/datasets/ashishguptajiit/handwritten-az/data\n",
    "<hr>\n",
    "</span>"
   ]
  },
  {
   "cell_type": "code",
   "execution_count": 22,
   "id": "664e271d-4e9d-454e-8ac3-be6be7bff044",
   "metadata": {},
   "outputs": [],
   "source": [
    "# -*- coding: utf-8 -*-\n",
    "\"\"\"\n",
    "Created on Wed May 22 22:18:32 2024\n",
    "@author: mrsag\n",
    "\"\"\"\n",
    "\n",
    "\"\"\"\n",
    "Importing modules\n",
    "\"\"\"\n",
    "\n",
    "import numpy as np\n",
    "import matplotlib.pyplot as plt\n",
    "from ucimlrepo import fetch_ucirepo \n",
    "import pandas as pd\n",
    "import glob\n",
    "from Curve_fitting_with_scipy import Gaussianfitting as Gf\n",
    "from Curve_fitting_with_scipy import Linefitting as Lf\n",
    "from scipy.signal import fftconvolve\n",
    "from collections import defaultdict\n",
    "import PIL\n",
    "from scipy.ndimage import rotate, zoom\n",
    "from scipy import ndimage\n",
    "import math\n",
    "from skimage import io, draw\n",
    "import joblib\n",
    "from sklearn.datasets import fetch_openml\n",
    "from sklearn.impute import SimpleImputer\n",
    "from sklearn.compose import ColumnTransformer\n",
    "from sklearn.pipeline import Pipeline\n",
    "from sklearn.preprocessing import OneHotEncoder, StandardScaler, OrdinalEncoder, LabelEncoder, MinMaxScaler\n",
    "from sklearn.base import BaseEstimator, TransformerMixin\n",
    "from sklearn.model_selection import train_test_split, cross_val_score\n",
    "from sklearn.tree import DecisionTreeClassifier, DecisionTreeRegressor, ExtraTreeClassifier,ExtraTreeRegressor\n",
    "from sklearn.ensemble import RandomForestClassifier, ExtraTreesClassifier, ExtraTreesRegressor, GradientBoostingClassifier, GradientBoostingRegressor\n",
    "from sklearn.ensemble import AdaBoostClassifier, AdaBoostRegressor, RandomForestRegressor, BaggingClassifier, BaggingRegressor\n",
    "from sklearn.ensemble import HistGradientBoostingClassifier, HistGradientBoostingRegressor, StackingClassifier, StackingRegressor\n",
    "from sklearn.ensemble import VotingClassifier, VotingRegressor\n",
    "from sklearn.feature_selection import f_classif\n",
    "from sklearn.neighbors import KNeighborsClassifier, KNeighborsRegressor, KNeighborsTransformer, RadiusNeighborsClassifier, RadiusNeighborsRegressor\n",
    "from sklearn.metrics import root_mean_squared_error, accuracy_score\n",
    "from sklearn.linear_model import LinearRegression, LogisticRegression, LogisticRegressionCV, PassiveAggressiveClassifier, PassiveAggressiveRegressor\n",
    "from sklearn.linear_model import RidgeClassifier, RidgeClassifierCV, RidgeCV, Ridge, SGDClassifier, SGDRegressor, SGDOneClassSVM, TweedieRegressor\n",
    "from sklearn.linear_model import ARDRegression, QuantileRegressor, HuberRegressor, RANSACRegressor, TheilSenRegressor, GammaRegressor, PoissonRegressor\n",
    "from sklearn.naive_bayes import BernoulliNB, CategoricalNB, ComplementNB, GaussianNB, MultinomialNB\n",
    "from sklearn.neural_network import MLPClassifier, MLPRegressor\n",
    "from xgboost import XGBRegressor, XGBClassifier, XGBRFClassifier, XGBRFRegressor\n",
    "from catboost import CatBoostClassifier, CatBoostRegressor\n",
    "from lightgbm import LGBMClassifier, LGBMRegressor\n",
    "\n",
    "\n",
    "\n",
    "import matplotlib as mpl\n",
    "\n",
    "mpl.rcParams['font.family'] = 'serif'\n",
    "mpl.rcParams['font.serif'] = 'Times New Roman'\n",
    "mpl.rcParams['font.size'] = 12\n",
    "mpl.rcParams['font.weight'] = 'bold'\n",
    "#mpl.rcParams['font.style'] = 'italic'  # Set this to 'italic'\n",
    "mpl.rcParams['figure.dpi'] = 120  # highres display"
   ]
  },
  {
   "cell_type": "code",
   "execution_count": 2,
   "id": "4700374b-db8f-42d6-9700-e7360b472e03",
   "metadata": {},
   "outputs": [],
   "source": [
    "def find_index(array, value):\n",
    "    # Calculate the absolute differences between each element and the target value\n",
    "    absolute_diff = np.abs(array - value)\n",
    "    \n",
    "    # Find the index of the minimum absolute difference\n",
    "    index = np.argmin(absolute_diff)\n",
    "    \n",
    "    return index\n",
    "\n",
    "\n",
    "def moving_average(signal, window_size):\n",
    "    # Define the window coefficients for the moving average\n",
    "    window = np.ones(window_size) / float(window_size)\n",
    "    \n",
    "    # Apply the moving average filter using fftconvolve\n",
    "    filtered_signal = fftconvolve(signal, window, mode='same')\n",
    "    \n",
    "    return filtered_signal\n",
    "\n",
    "\n",
    "def hist_dataframe(df, bins=10):\n",
    "    # Define a list of colors for each histogram\n",
    "    colors = ['red', 'green', 'blue', 'magenta', 'cyan', 'purple', 'orange', 'black']\n",
    "    # Create subplots with a dynamic number of rows, 3 columns per row\n",
    "    fig, axes = plt.subplots(nrows=int(np.ceil(len(df.columns) / 3)), ncols=3, figsize=(18, 4.5*int(np.ceil(len(df.columns) / 3))))\n",
    "    # Flatten the axes array for easy iteration (even if it's a 2D grid)\n",
    "    axes = axes.flatten()\n",
    "    \n",
    "    # Plot each histogram individually\n",
    "    for i, column in enumerate(df.columns):\n",
    "        df[column].plot(kind='hist', ax=axes[i], color=colors[i%len(colors)], title=column, bins = bins)\n",
    "        axes[i].grid(True, linewidth=0.5, color='k')  # Optional: add grid\n",
    "    \n",
    "    # Turn off any unused subplots (in case the number of columns is not a multiple of 3)\n",
    "    for j in range(i+1, len(axes)):\n",
    "        fig.delaxes(axes[j])  # Delete empty subplots\n",
    "    \n",
    "    plt.tight_layout()  # Adjust the layout\n",
    "    plt.show()\n",
    "    pass\n",
    "    \n",
    "\n",
    "def binned_mode(data, num_bins):     \n",
    "    \"\"\" use this function to replace the missing value with the most probable value in a dataset...\n",
    "        There are inbuilt functions for mean and median\"\"\"\n",
    "    # Calculate the range of the data\n",
    "    data_min, data_max = min(data), max(data)\n",
    "    \n",
    "    # Calculate the bin edges\n",
    "    bins = np.linspace(data_min, data_max, num_bins + 1)\n",
    "    \n",
    "    # Group data into bins\n",
    "    binned_data = defaultdict(list)\n",
    "    for num in data:\n",
    "        # Find the correct bin index for each number\n",
    "        bin_index = np.digitize(num, bins) - 1  # subtract 1 to get 0-based index\n",
    "        bin_index = min(bin_index, num_bins - 1)  # ensure last bin is included\n",
    "        binned_data[bin_index].append(num)\n",
    "    \n",
    "    # Find the bin with the highest frequency\n",
    "    most_frequent_bin = max(binned_data, key=lambda k: len(binned_data[k]))\n",
    "    \n",
    "    # Calculate the average of the values in the most frequent bin\n",
    "    mode_value = np.mean(binned_data[most_frequent_bin])\n",
    "    \n",
    "    return mode_value\n",
    "\n",
    "\n",
    "def plot_hollow_pillar_histogram(data, bins=30, edgecolor='black', linewidth=1.5):   #, xlabel='Value', ylabel='Frequency', title='Histogram with Hollow Pillar Bars'):\n",
    "    \"\"\"\n",
    "    Plots a histogram with hollow pillar bars.\n",
    "\n",
    "    Parameters:\n",
    "    - data: Array of data to be plotted.\n",
    "    - bins: Number of bins or bin edges (default is 30).\n",
    "    - edgecolor: Color of the bar edges (default is 'black').\n",
    "    - linewidth: Thickness of the bar edges (default is 1.5).\n",
    "    - xlabel: Label for the x-axis (default is 'Value').\n",
    "    - ylabel: Label for the y-axis (default is 'Frequency').\n",
    "    - title: Title for the plot (default is 'Histogram with Hollow Pillar Bars').\n",
    "    \"\"\"\n",
    "    # Create the histogram without plotting it (retrieve the counts and bin edges)\n",
    "    counts, bin_edges = np.histogram(data, bins=bins)\n",
    "    # Width of each bar\n",
    "    bin_width = bin_edges[1] - bin_edges[0]\n",
    "    # Create the plot\n",
    "    for i in range(bins):\n",
    "        plt.hist(bin_edges[i]*np.ones(counts[i]),bins=1, edgecolor='black', linewidth=0.5, rwidth=(max(data)-min(data))/bins)\n",
    "        \n",
    "    # Set limits for x and y axis\n",
    "    # ax.set_xlim(bin_edges[0], bin_edges[-1])\n",
    "    # ax.set_ylim(0, max(counts) * 1.1)\n",
    "    # Add labels and title\n",
    "    # plt.xlabel(xlabel)\n",
    "    # plt.ylabel(ylabel)\n",
    "    # plt.title(title)\n",
    "    pass\n",
    "\n",
    "\n",
    "\n",
    "def get_numerical_categorical_boolean_columns(data):\n",
    "    # Separate categorical and numerical columns\n",
    "    categorical_columns = []\n",
    "    numerical_columns = []\n",
    "    boolean_columns = []\n",
    "    \n",
    "    for name in np.array(data.columns):\n",
    "        i=0\n",
    "        while(data[name][i] is None):\n",
    "            i += 1\n",
    "\n",
    "        if(type(data[name][i]) is str):\n",
    "            categorical_columns.append(name)\n",
    "        elif((type(data[name][i]) is float) or (type(data[name][i]) is int) or (type(data[name][i]) is bin) or (type(data[name][i]) is np.int64) \n",
    "            or (type(data[name][i]) is np.int32) or (type(data[name][i]) is np.int16) or (type(data[name][i]) is np.int8) or \n",
    "            (type(data[name][i]) is np.float16) or (type(data[name][i]) is np.float32) or (type(data[name][i]) is np.float64)):\n",
    "            \n",
    "            numerical_columns.append(name)\n",
    "        elif((type(data[name][i]) is bool)):\n",
    "             boolean_columns.append(name)\n",
    "        else:\n",
    "            pass\n",
    "    return numerical_columns, categorical_columns, boolean_columns\n",
    "\n",
    "@np.vectorize\n",
    "def n_th_alphabet(n):\n",
    "    if 0 <= n <= 25:\n",
    "        return chr(65 + n)\n",
    "    else:\n",
    "        return \"Input out of range. Please provide a number between 0 and 25.\"\n"
   ]
  },
  {
   "cell_type": "code",
   "execution_count": 3,
   "id": "600df03e-b4bd-46a9-967b-0fc4ccff0509",
   "metadata": {},
   "outputs": [
    {
     "name": "stdout",
     "output_type": "stream",
     "text": [
      "(372037, 785)\n",
      "<class 'pandas.core.frame.DataFrame'>\n",
      "RangeIndex: 372037 entries, 0 to 372036\n",
      "Columns: 785 entries, 0 to 0.571\n",
      "dtypes: int64(785)\n",
      "memory usage: 2.2 GB\n",
      "None\n"
     ]
    }
   ],
   "source": [
    "import pandas as pd\n",
    "\n",
    "file_path = \"D:\\\\ML Dataset\\\\Kaggle handwritten alphabet a-z\\\\handwritten_data_785.csv\"\n",
    "\n",
    "# Read the CSV file into a DataFrame\n",
    "data = pd.read_csv(file_path)\n",
    "\n",
    "# Display the first few rows of the DataFrame\n",
    "print(data.shape)\n",
    "print(data.info())"
   ]
  },
  {
   "cell_type": "markdown",
   "id": "33cbfe69-a746-4b1a-a0a1-47a54a43483a",
   "metadata": {},
   "source": [
    "<span style = \"font-family:Geogia; color:orange; font-size:14px\">\n",
    "First we need the shuffle the data and then separate the features and labels.<br>\n",
    "The first column is label and all other columns are features...\n",
    "</span>"
   ]
  },
  {
   "cell_type": "code",
   "execution_count": 4,
   "id": "91bd0cb6-1896-4457-ade1-82720863c38a",
   "metadata": {},
   "outputs": [
    {
     "name": "stdout",
     "output_type": "stream",
     "text": [
      "(100000, 784)\n",
      "(100000,)\n"
     ]
    }
   ],
   "source": [
    "shuffled_index = np.random.permutation(data.shape[0])\n",
    "data = data.iloc[shuffled_index]\n",
    "data_reduced = data.iloc[:100000]\n",
    "x = data_reduced.drop(\"0\",axis=1)\n",
    "y = data_reduced[\"0\"]\n",
    "\n",
    "print(x.shape)\n",
    "print(y.shape)"
   ]
  },
  {
   "cell_type": "code",
   "execution_count": 12,
   "id": "2dab4baa-8c0b-41cf-9a18-ddeea02f934a",
   "metadata": {},
   "outputs": [
    {
     "data": {
      "image/png": "[encoded data removed]",
      "text/plain": [
       "<Figure size 768x576 with 1 Axes>"
      ]
     },
     "metadata": {},
     "output_type": "display_data"
    }
   ],
   "source": [
    "\" Showing a random image \"\n",
    "index = np.random.randint(0, x.shape[0])\n",
    "random_image = np.array((x.iloc[index])).reshape(28,28)\n",
    "# print(random_image)\n",
    "plt.imshow(random_image)\n",
    "plt.axis(\"off\")\n",
    "plt.title(f\"image no: {index};  letter: {y.iloc[index]}/{n_th_alphabet(y.iloc[index])}\")\n",
    "plt.show()"
   ]
  },
  {
   "cell_type": "code",
   "execution_count": 13,
   "id": "2f8b96f9-39ff-4381-b4f2-aeb698f2e3b6",
   "metadata": {},
   "outputs": [
    {
     "name": "stdout",
     "output_type": "stream",
     "text": [
      "Train data size: (80000, 784)\n",
      "Test data size: (20000, 784)\n"
     ]
    }
   ],
   "source": [
    "train_percent = int(len(y)*0.8)\n",
    "\n",
    "x_train, y_train = np.array(x[:train_percent]), np.array(y[:train_percent])\n",
    "x_test, y_test = np.array(x[train_percent:]), np.array(y[train_percent:])\n",
    "\n",
    "y_train, y_test = y_train.astype(np.int8), y_test.astype(np.int8)\n",
    "\n",
    "print(f\"Train data size: {x_train.shape}\\nTest data size: {x_test.shape}\")"
   ]
  },
  {
   "cell_type": "code",
   "execution_count": 19,
   "id": "8a16c9d7-0ecd-4b8f-b296-7ac975edc0cf",
   "metadata": {},
   "outputs": [
    {
     "name": "stdout",
     "output_type": "stream",
     "text": [
      "accuracy_score: 94.81 %\n"
     ]
    }
   ],
   "source": [
    "# model = LogisticRegression()\n",
    "model = RandomForestClassifier()\n",
    "# model = DecisionTreeClassifier()\n",
    "# model = KNeighborsClassifier()\n",
    "# model = ExtraTreesClassifier()\n",
    "\n",
    "model.fit(x_train, y_train)\n",
    "# cross_val_scores = cross_val_score(model, x_train, y_train, scoring=\"accuracy\", cv=10)\n",
    "\n",
    "y_predict = model.predict(x_test)\n",
    "print(f\"accuracy_score: {accuracy_score(y_test, y_predict)*100} %\")"
   ]
  },
  {
   "cell_type": "code",
   "execution_count": 23,
   "id": "9f10e30d-be8d-4d71-96fc-35d1455a00e0",
   "metadata": {},
   "outputs": [
    {
     "data": {
      "image/png": "[encoded data removed]",
      "text/plain": [
       "<Figure size 768x576 with 2 Axes>"
      ]
     },
     "metadata": {},
     "output_type": "display_data"
    }
   ],
   "source": [
    "index = np.random.randint(len(y_test)-1)\n",
    "\n",
    "random_image = np.array((x_test[index])).reshape(28,28)\n",
    "# print(random_image)\n",
    "plt.imshow(random_image, cmap='gray')\n",
    "plt.colorbar()\n",
    "plt.axis(\"off\")\n",
    "plt.title(f\"index: {index};  Digit: {y_test[index]} ({n_th_alphabet(y_test[index])});  predict: {y_predict[index]} ({n_th_alphabet(y_predict[index])})\")\n",
    "plt.show()"
   ]
  },
  {
   "cell_type": "code",
   "execution_count": 18,
   "id": "c3418230-6e06-4805-8cd5-3b8af3493c82",
   "metadata": {},
   "outputs": [
    {
     "data": {
      "image/png": "[encoded data removed]",
      "text/plain": [
       "<Figure size 1080x360 with 1 Axes>"
      ]
     },
     "metadata": {},
     "output_type": "display_data"
    }
   ],
   "source": [
    "# Identify incorrect predictions\n",
    "incorrect_indices = np.where(y_test != y_predict)[0]\n",
    "incorrect_labels = y_test[incorrect_indices]# Extract the corresponding true labels (y_test) for incorrect predictions\n",
    "total_per_digit = np.bincount(y_test, minlength=10) # Calculate the total occurrences of each digit in the test set\n",
    "incorrect_per_digit = np.bincount(incorrect_labels, minlength=10)  # Calculate the incorrect occurrences for each digit\n",
    "percentage_incorrect_per_digit = (incorrect_per_digit / total_per_digit) * 100  # Calculate the percentage of incorrect predictions for each digit\n",
    "\n",
    "# Plot the percentage of incorrect predictions for each digit\n",
    "plt.figure(figsize=(9,3))\n",
    "plt.bar(np.arange(len(set(y_test))), percentage_incorrect_per_digit, color='red', edgecolor='black', linewidth = 2, width=0.5)\n",
    "plt.xticks(np.arange(len(set(y_test))))  # Digits 0 to 9\n",
    "plt.xlabel('True Digit Label')\n",
    "plt.ylabel('Incorrect Predictions (%)')\n",
    "plt.title('Incorrect Predictions (in %) for Each Digit\\n'+f\"average: {np.mean(percentage_incorrect_per_digit):.2f} %\", fontsize=10, fontweight='bold')\n",
    "plt.grid(True, lw=1, color = 'k')\n",
    "plt.show()"
   ]
  }
 ],
 "metadata": {
  "kernelspec": {
   "display_name": "Python 3 (ipykernel)",
   "language": "python",
   "name": "python3"
  },
  "language_info": {
   "codemirror_mode": {
    "name": "ipython",
    "version": 3
   },
   "file_extension": ".py",
   "mimetype": "text/x-python",
   "name": "python",
   "nbconvert_exporter": "python",
   "pygments_lexer": "ipython3",
   "version": "3.11.9"
  }
 },
 "nbformat": 4,
 "nbformat_minor": 5
}
