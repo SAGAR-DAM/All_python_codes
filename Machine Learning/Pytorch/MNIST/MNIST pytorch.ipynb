{
 "cells": [
  {
   "cell_type": "markdown",
   "id": "270f8ad1-a70f-441b-b74c-a65e9d10a63c",
   "metadata": {},
   "source": [
    "<h1 style=\"color:green; font-family:Georgia\">\n",
    "Machine Learning for MNIST Handwritten digit recognition with PyTorch ::\n",
    "<hr>\n",
    "</h1>"
   ]
  },
  {
   "cell_type": "markdown",
   "id": "d5ed3ad7-e81a-4000-bbf4-ebf05b970982",
   "metadata": {},
   "source": [
    "<span style = \"font-family:Geogia; color:orange;  font-style:italic; font-size:14px\">\n",
    "The MNIST database (Modified National Institute of Standards and Technology database) is a large database of handwritten digits that is commonly used for training various image processing systems. The database is also widely used for training and testing in the field of machine learning. It was created by \"re-mixing\" the samples from NIST's original datasets. The creators felt that since NIST's training dataset was taken from American Census Bureau employees, while the testing dataset was taken from American high school students, it was not well-suited for machine learning experiments. Furthermore, the black and white images from NIST were normalized to fit into a 28x28 pixel bounding box and anti-aliased, which introduced grayscale levels.<br>\n",
    "\n",
    "The MNIST database contains 60,000 training images and 10,000 testing images. Half of the training set and half of the test set were taken from NIST's training dataset, while the other half of the training set and the other half of the test set were taken from NIST's testing dataset. The original creators of the database keep a list of some of the methods tested on it. In their original paper, they use a support-vector machine to get an error rate of 0.8%<br>\n",
    "</span>\n",
    "\n",
    "<h5 style=\"color:red; font-family:Georgia\">\n",
    "total number of images (instances): 70000 <br>\n",
    "total number of features: 784 (28$\\times$28 pixels = 784)\n",
    "</h5>\n",
    "\n",
    "\n",
    "For reference of each step see: https://chatgpt.com/share/66ffe9c1-5f98-8013-83b4-e797970250ab"
   ]
  },
  {
   "cell_type": "markdown",
   "id": "e6995220-1dde-4d22-88c3-c895b9356f70",
   "metadata": {},
   "source": [
    "<h4 style=\"color:orange; font-family:Georgia; text-decoration: underline\">\n",
    "Importing importent modules :\n",
    "</h4>"
   ]
  },
  {
   "cell_type": "code",
   "execution_count": 15,
   "id": "8641b12f-d3fd-42dd-8893-194687876aa6",
   "metadata": {},
   "outputs": [],
   "source": [
    "import numpy as np\n",
    "import matplotlib.pyplot as plt\n",
    "from ucimlrepo import fetch_ucirepo \n",
    "import pandas as pd\n",
    "import glob\n",
    "from Curve_fitting_with_scipy import Gaussianfitting as Gf\n",
    "from Curve_fitting_with_scipy import Linefitting as Lf\n",
    "from scipy.signal import fftconvolve\n",
    "from collections import defaultdict\n",
    "import PIL\n",
    "import joblib\n",
    "\n",
    "\n",
    "\n",
    "from sklearn.datasets import fetch_openml\n",
    "from sklearn.impute import SimpleImputer\n",
    "from sklearn.compose import ColumnTransformer\n",
    "from sklearn.pipeline import Pipeline\n",
    "from sklearn.preprocessing import OneHotEncoder, StandardScaler, OrdinalEncoder, LabelEncoder, MinMaxScaler\n",
    "from sklearn.base import BaseEstimator, TransformerMixin\n",
    "from sklearn.model_selection import train_test_split, cross_val_score\n",
    "from sklearn.tree import DecisionTreeClassifier\n",
    "from sklearn.ensemble import RandomForestClassifier, ExtraTreesClassifier, ExtraTreesRegressor\n",
    "from sklearn.feature_selection import f_classif\n",
    "from sklearn.neighbors import KNeighborsClassifier\n",
    "from sklearn.metrics import root_mean_squared_error, accuracy_score\n",
    "from sklearn.linear_model import LinearRegression, LogisticRegression\n",
    "\n",
    "\n",
    "\n",
    "from xgboost import XGBRegressor, XGBClassifier, XGBRFClassifier, XGBRFRegressor\n",
    "from catboost import CatBoostClassifier, CatBoostRegressor\n",
    "from lightgbm import LGBMClassifier, LGBMRegressor\n",
    "\n",
    "\n",
    "\n",
    "import torch\n",
    "import torch.nn as nn\n",
    "import torch.nn.functional as F\n",
    "import torch.optim as optim\n",
    "from torch.utils.data import DataLoader\n",
    "import torchvision.datasets as datasets\n",
    "import torchvision.transforms as transformers\n",
    "from torch.utils.data import Dataset\n",
    "\n",
    "device = torch.device('cuda' if torch.cuda.is_available() else 'cpu')\n",
    "\n",
    "\n",
    "import matplotlib as mpl\n",
    "mpl.rcParams['font.family'] = 'serif'\n",
    "mpl.rcParams['font.serif'] = 'Times New Roman'\n",
    "mpl.rcParams['font.size'] = 12\n",
    "mpl.rcParams['font.weight'] = 'bold'\n",
    "#mpl.rcParams['font.style'] = 'italic'  # Set this to 'italic'\n",
    "mpl.rcParams['figure.dpi'] = 120  # highres display"
   ]
  },
  {
   "cell_type": "markdown",
   "id": "20aa695b-5de6-4271-b2ae-bcafc397ce67",
   "metadata": {},
   "source": [
    "<h4 style=\"color:orange; font-family:Georgia; text-decoration: underline\">\n",
    "Getting the data :\n",
    "</h4>"
   ]
  },
  {
   "cell_type": "code",
   "execution_count": 16,
   "id": "af43c3dd-16b0-4ccc-8c48-d19a7774f6f8",
   "metadata": {},
   "outputs": [
    {
     "name": "stdout",
     "output_type": "stream",
     "text": [
      "(60000, 785)\n"
     ]
    }
   ],
   "source": [
    "file_path_train = \"D:\\\\ML Dataset\\\\MNIST csv\\\\mnist_train.csv\"\n",
    "file_path_test = \"D:\\\\ML Dataset\\\\MNIST csv\\\\mnist_test.csv\"\n",
    "# Read the CSV file into a DataFrame\n",
    "data_train = pd.read_csv(file_path_train)\n",
    "data_test = pd.read_csv(file_path_test)\n",
    "\n",
    "shuffled_index = np.random.permutation(data_train.shape[0])\n",
    "data_train = data_train.iloc[shuffled_index]\n",
    "del shuffled_index\n",
    "print(data_train.shape)"
   ]
  },
  {
   "cell_type": "markdown",
   "id": "74d9bae1-3f6f-4284-b3d8-867577fdba66",
   "metadata": {},
   "source": [
    "<h4 style=\"color:orange; font-family:Georgia; text-decoration: underline\">\n",
    "Separating out features and labels:\n",
    "</h4>"
   ]
  },
  {
   "cell_type": "code",
   "execution_count": 32,
   "id": "1be0c1f1-02ff-468c-8b56-209284d0fa8a",
   "metadata": {},
   "outputs": [],
   "source": [
    "x_train=data_train.drop(\"label\", axis=1)\n",
    "y_train=data_train[\"label\"]\n",
    "\n",
    "x_test=data_test.drop(\"label\",axis=1)\n",
    "y_test=data_test[\"label\"]"
   ]
  },
  {
   "cell_type": "markdown",
   "id": "e20ca4b2-1bdf-4de3-9b30-b5b45addc786",
   "metadata": {},
   "source": [
    "<h4 style=\"color:orange; font-family:Georgia; text-decoration: underline\">\n",
    "Preprocessing with sklearn for imputing and scaling\n",
    "</h4>"
   ]
  },
  {
   "cell_type": "code",
   "execution_count": 18,
   "id": "c66bdb28-e01f-4594-8379-b19e578fb9c6",
   "metadata": {},
   "outputs": [],
   "source": [
    "pipeline = Pipeline([\n",
    "                    ('imputer',SimpleImputer(strategy='median')),\n",
    "                    ('std_scalar',StandardScaler()),\n",
    "                     # add as many as you want...\n",
    "                    ])\n",
    "\n",
    "x_train = pipeline.fit_transform(x_train)\n",
    "x_test = pipeline.fit_transform(x_test)\n",
    "\n",
    "x_train = torch.tensor(x_train)\n",
    "y_train = torch.tensor(y_train)\n",
    "\n",
    "x_test = torch.tensor(x_test)\n",
    "y_test = torch.tensor(y_test)"
   ]
  },
  {
   "cell_type": "markdown",
   "id": "59dbee52-c8fe-4856-bf2c-d299b6ec7b11",
   "metadata": {},
   "source": [
    "<h4 style=\"color:orange; font-family:Georgia; text-decoration: underline\">\n",
    "Defining the neural network class:\n",
    "</h4>"
   ]
  },
  {
   "cell_type": "code",
   "execution_count": 19,
   "id": "3f5bdcac-bc17-4f30-a4ab-3086c3939fd9",
   "metadata": {},
   "outputs": [],
   "source": [
    "# Define the model with 15 fully connected layers\n",
    "class FullyConnectedNN(nn.Module):\n",
    "    def __init__(self):\n",
    "        super().__init__()\n",
    "        \n",
    "        # Define 15 fully connected layers\n",
    "        self.fc1 = nn.Linear(784, 512)\n",
    "        self.fc2 = nn.Linear(512, 256)\n",
    "        self.fc3 = nn.Linear(256, 128)\n",
    "        \n",
    "        # Output layer for 10 classes (digits 0-9)\n",
    "        self.out = nn.Linear(128, 10)\n",
    "\n",
    "\n",
    "    def forward(self, x):\n",
    "        # Flatten the input (28x28) to a vector (784)\n",
    "        x = x.view(-1, 784)\n",
    "        \n",
    "        # Apply different activation functions between each layer\n",
    "        x = F.relu(self.fc1(x))        # ReLU activation for layer 1\n",
    "        x = F.relu(self.fc2(x))        # Leaky ReLU for layer 2\n",
    "        x = F.relu(self.fc3(x))        # Tanh activation for layer 3\n",
    "        \n",
    "        # Output layer (for classification, we'll apply log softmax)\n",
    "        x = F.softmax(self.out(x), dim=1)\n",
    "        s\n",
    "        return x"
   ]
  },
  {
   "cell_type": "markdown",
   "id": "f791aec5-16ce-4cc2-bd14-dc9253362a2f",
   "metadata": {},
   "source": [
    "<h4 style=\"color:orange; font-family:Georgia; text-decoration: underline\">\n",
    "Defining the parameters and learning rates for the neural network:\n",
    "</h4>"
   ]
  },
  {
   "cell_type": "code",
   "execution_count": 20,
   "id": "099ca52c-9a00-4538-820c-120ceba10a2a",
   "metadata": {},
   "outputs": [],
   "source": [
    "# Hyperparameters\n",
    "batch_size = 400\n",
    "learning_rate = 0.0005\n",
    "epochs = 10\n",
    "\n",
    "\n",
    "# Initialize the model, loss function and optimizer\n",
    "model = FullyConnectedNN()\n",
    "# model = model.double()  # Convert model parameters to Double\n",
    "criterion = nn.CrossEntropyLoss()\n",
    "optimizer = optim.Adam(model.parameters(), lr=learning_rate)"
   ]
  },
  {
   "cell_type": "markdown",
   "id": "4df95149-49de-418a-b06b-792659ecbed6",
   "metadata": {},
   "source": [
    "<h4 style=\"color:orange; font-family:Georgia; text-decoration: underline\">\n",
    "Use this DataLoader format if needed. This will take the train and test data without separating the features and labels.\n",
    "</h4>"
   ]
  },
  {
   "cell_type": "code",
   "execution_count": 21,
   "id": "30da4002-4609-4f0b-8566-ce89a6f017e6",
   "metadata": {},
   "outputs": [],
   "source": [
    "# class CustomDataset(Dataset):\n",
    "#     def __init__(self, x_data, y_data):\n",
    "#         self.x_data = x_data\n",
    "#         self.y_data = y_data\n",
    "\n",
    "#     def __len__(self):\n",
    "#         return len(self.x_data)\n",
    "\n",
    "#     def __getitem__(self, idx):\n",
    "#         return self.x_data[idx], self.y_data[idx]\n",
    "\n",
    "# # Create instances of the custom dataset for training and testing\n",
    "# train_dataset = CustomDataset(x_train, y_train)\n",
    "# test_dataset = CustomDataset(x_test, y_test)\n",
    "\n",
    "# # Create data loaders\n",
    "# train_loader = DataLoader(train_dataset, batch_size=batch_size, shuffle=True)\n",
    "# test_loader = DataLoader(test_dataset, batch_size=batch_size, shuffle=False)\n",
    "\n",
    "\n",
    "# # Modified Training loop\n",
    "# def train(model, device, train_loader, optimizer, criterion, epoch):\n",
    "#     model.train()\n",
    "#     for batch_idx, (data, target) in enumerate(train_loader):\n",
    "#         data, target = data.to(device), target.to(device)\n",
    "        \n",
    "#         # Zero the parameter gradients\n",
    "#         optimizer.zero_grad()\n",
    "        \n",
    "#         # Forward pass\n",
    "#         output = model(data)\n",
    "        \n",
    "#         # Calculate loss\n",
    "#         loss = criterion(output, target)\n",
    "        \n",
    "#         # Backward pass and optimize\n",
    "#         loss.backward()\n",
    "#         optimizer.step()\n",
    "        \n",
    "#         # Print progress\n",
    "#         if batch_idx % 100 == 0:\n",
    "#             print(f'Train Epoch: {epoch} [{batch_idx * len(data)}/{len(train_loader.dataset)} '\n",
    "#                   f'({100. * batch_idx / len(train_loader):.0f}%)]\\tLoss: {loss.item():.6f}')\n",
    "\n",
    "# # Modified Test loop\n",
    "# def test(model, device, test_loader, criterion):\n",
    "#     model.eval()  # Set the model to evaluation mode\n",
    "#     test_loss = 0\n",
    "#     correct = 0\n",
    "#     with torch.no_grad():  # Disable gradient computation for testing\n",
    "#         for data, target in test_loader:\n",
    "#             data, target = data.to(device), target.to(device)\n",
    "            \n",
    "#             # Forward pass\n",
    "#             output = model(data)\n",
    "            \n",
    "#             # Sum up batch loss\n",
    "#             test_loss += criterion(output, target).item()\n",
    "            \n",
    "#             # Get the index of the max log-probability (prediction)\n",
    "#             pred = output.argmax(dim=1, keepdim=True)\n",
    "            \n",
    "#             # Count correct predictions\n",
    "#             correct += pred.eq(target.view_as(pred)).sum().item()\n",
    "\n",
    "#     # Print test results\n",
    "#     test_loss /= len(test_loader.dataset)\n",
    "#     print(f'\\nTest set: Average loss: {test_loss:.4f}, Accuracy: {correct}/{len(test_loader.dataset)} '\n",
    "#           f'({100. * correct / len(test_loader.dataset):.0f}%)\\n')\n",
    "\n",
    "# # Training the model\n",
    "# for epoch in range(1, epochs + 1):\n",
    "#     train(model, device, train_loader, optimizer, criterion, epoch)\n",
    "#     test(model, device, test_loader, criterion)\n"
   ]
  },
  {
   "cell_type": "markdown",
   "id": "0d963ed9-59a0-438d-878e-38c8d451972c",
   "metadata": {},
   "source": [
    "<h4 style=\"color:orange; font-family:Georgia; text-decoration: underline\">\n",
    "Defining the train, test and evaluate functions for the model learning\n",
    "</h4>"
   ]
  },
  {
   "cell_type": "code",
   "execution_count": 22,
   "id": "f9373c61-806d-4541-8b02-45ad64af5bed",
   "metadata": {},
   "outputs": [],
   "source": [
    "def train(model, device, x_train, y_train, optimizer, criterion, batch_size, epoch):\n",
    "    model.train()\n",
    "    num_samples = x_train.size(0)\n",
    "    \n",
    "    for batch_start in range(0, num_samples, batch_size):\n",
    "        batch_end = min(batch_start + batch_size, num_samples)\n",
    "        data = x_train[batch_start:batch_end].to(device).float()\n",
    "        target = y_train[batch_start:batch_end].to(device)\n",
    "\n",
    "        # Zero the parameter gradients\n",
    "        optimizer.zero_grad()\n",
    "        \n",
    "        # Forward pass\n",
    "        output = model(data)\n",
    "        \n",
    "        # Calculate loss\n",
    "        loss = criterion(output, target)\n",
    "        \n",
    "        # Backward pass and optimize\n",
    "        loss.backward()\n",
    "        optimizer.step()\n",
    "        \n",
    "        # Print progress\n",
    "        if batch_start % (100 * batch_size) == 0:\n",
    "            print(f'Train Epoch: {epoch} [{batch_start}/{num_samples} '\n",
    "                  f'({100. * batch_start / num_samples:.0f}%)]\\tLoss: {loss.item():.6f}')\n",
    "\n",
    "\n",
    "def test(model, device, x_test, y_test, criterion, return_val=False):\n",
    "    model.eval()  # Set the model to evaluation mode\n",
    "    test_loss = 0\n",
    "    correct = 0\n",
    "    num_samples = x_test.size(0)\n",
    "    all_predictions = []  # To store all predicted labels\n",
    "\n",
    "    with torch.no_grad():  # Disable gradient computation for testing\n",
    "        for batch_start in range(0, num_samples, batch_size):\n",
    "            batch_end = min(batch_start + batch_size, num_samples)\n",
    "            data = x_test[batch_start:batch_end].to(device).float()\n",
    "            target = y_test[batch_start:batch_end].to(device)\n",
    "\n",
    "            # Forward pass\n",
    "            output = model(data)\n",
    "            \n",
    "            # Sum up batch loss\n",
    "            test_loss += criterion(output, target).item()\n",
    "            \n",
    "            # Get the index of the max log-probability (prediction)\n",
    "            pred = output.argmax(dim=1, keepdim=True)  # Shape: [batch_size, 1]\n",
    "            all_predictions.append(pred.cpu().numpy())  # Store predictions\n",
    "            \n",
    "            # Count correct predictions\n",
    "            correct += pred.eq(target.view_as(pred)).sum().item()\n",
    "\n",
    "    # Concatenate all predictions into a single array\n",
    "    all_predictions = np.concatenate(all_predictions)\n",
    "\n",
    "    # Print test results\n",
    "    test_loss /= num_samples\n",
    "    print(f'\\nTest set: Average loss: {test_loss:.4f}, Accuracy: {correct}/{num_samples} '\n",
    "          f'({100. * correct / num_samples:.0f}%)\\n')\n",
    "    if return_val:\n",
    "        return all_predictions\n",
    "    else:\n",
    "        pass\n",
    "\n",
    "def model_evaluate(model=model, x_test=x_test, epochs=epochs):\n",
    "    #model.__init__()\n",
    "    # Training the model\n",
    "    for epoch in range(1, epochs):\n",
    "        train(model, device, x_train, y_train, optimizer, criterion, batch_size, epoch)\n",
    "        test(model, device, x_test, y_test, criterion)\n",
    "\n",
    "    train(model, device, x_train, y_train, optimizer, criterion, batch_size, epochs+1)\n",
    "    y_predict = test(model, device, x_test, y_test, criterion, return_val=True)\n",
    "\n",
    "    return y_predict\n",
    "    "
   ]
  },
  {
   "cell_type": "code",
   "execution_count": 23,
   "id": "badb52b2-d196-4f0b-b1e6-b6366a77b7f1",
   "metadata": {
    "scrolled": true
   },
   "outputs": [
    {
     "name": "stdout",
     "output_type": "stream",
     "text": [
      "Train Epoch: 1 [0/60000 (0%)]\tLoss: 2.302732\n",
      "Train Epoch: 1 [40000/60000 (67%)]\tLoss: 1.580097\n",
      "\n",
      "Test set: Average loss: 0.0038, Accuracy: 9366/10000 (94%)\n",
      "\n",
      "Train Epoch: 2 [0/60000 (0%)]\tLoss: 1.513914\n",
      "Train Epoch: 2 [40000/60000 (67%)]\tLoss: 1.543871\n",
      "\n",
      "Test set: Average loss: 0.0038, Accuracy: 9525/10000 (95%)\n",
      "\n",
      "Train Epoch: 3 [0/60000 (0%)]\tLoss: 1.495368\n",
      "Train Epoch: 3 [40000/60000 (67%)]\tLoss: 1.515449\n",
      "\n",
      "Test set: Average loss: 0.0038, Accuracy: 9594/10000 (96%)\n",
      "\n",
      "Train Epoch: 4 [0/60000 (0%)]\tLoss: 1.491218\n",
      "Train Epoch: 4 [40000/60000 (67%)]\tLoss: 1.510051\n",
      "\n",
      "Test set: Average loss: 0.0037, Accuracy: 9633/10000 (96%)\n",
      "\n",
      "Train Epoch: 5 [0/60000 (0%)]\tLoss: 1.481325\n",
      "Train Epoch: 5 [40000/60000 (67%)]\tLoss: 1.493694\n",
      "\n",
      "Test set: Average loss: 0.0037, Accuracy: 9628/10000 (96%)\n",
      "\n",
      "Train Epoch: 6 [0/60000 (0%)]\tLoss: 1.477837\n",
      "Train Epoch: 6 [40000/60000 (67%)]\tLoss: 1.483843\n",
      "\n",
      "Test set: Average loss: 0.0037, Accuracy: 9665/10000 (97%)\n",
      "\n",
      "Train Epoch: 7 [0/60000 (0%)]\tLoss: 1.476960\n",
      "Train Epoch: 7 [40000/60000 (67%)]\tLoss: 1.485556\n",
      "\n",
      "Test set: Average loss: 0.0037, Accuracy: 9704/10000 (97%)\n",
      "\n",
      "Train Epoch: 8 [0/60000 (0%)]\tLoss: 1.472654\n",
      "Train Epoch: 8 [40000/60000 (67%)]\tLoss: 1.478995\n",
      "\n",
      "Test set: Average loss: 0.0037, Accuracy: 9678/10000 (97%)\n",
      "\n",
      "Train Epoch: 9 [0/60000 (0%)]\tLoss: 1.472563\n",
      "Train Epoch: 9 [40000/60000 (67%)]\tLoss: 1.477293\n",
      "\n",
      "Test set: Average loss: 0.0037, Accuracy: 9696/10000 (97%)\n",
      "\n",
      "Train Epoch: 11 [0/60000 (0%)]\tLoss: 1.474161\n",
      "Train Epoch: 11 [40000/60000 (67%)]\tLoss: 1.474331\n",
      "\n",
      "Test set: Average loss: 0.0037, Accuracy: 9711/10000 (97%)\n",
      "\n"
     ]
    }
   ],
   "source": [
    "y_predict = model_evaluate(model, x_test)"
   ]
  },
  {
   "cell_type": "markdown",
   "id": "505edfc3-78a6-4365-9778-6cbb20e44ca2",
   "metadata": {},
   "source": [
    "<h4 style=\"color:orange; font-family:Georgia\">\n",
    "Showing the accuracy of the model for each digit differently...\n",
    "</h4>"
   ]
  },
  {
   "cell_type": "code",
   "execution_count": 26,
   "id": "51c8b7b6-c5e7-40ea-ba45-b4233643ddaa",
   "metadata": {},
   "outputs": [
    {
     "name": "stdout",
     "output_type": "stream",
     "text": [
      "accuracy_score:  97.11 %\n"
     ]
    },
    {
     "data": {
      "image/png": "[encoded data removed]",
      "text/plain": [
       "<Figure size 360x240 with 1 Axes>"
      ]
     },
     "metadata": {},
     "output_type": "display_data"
    }
   ],
   "source": [
    "y_test_arr = np.array(y_test,dtype=np.float32)\n",
    "y_predict = (np.array(y_predict)).reshape(y_test_arr.shape)\n",
    "\n",
    "acc_score = accuracy_score(y_test_arr,y_predict)\n",
    "print(f\"accuracy_score:  {100*acc_score:.2f} %\")\n",
    "\n",
    "# Identify incorrect predictions\n",
    "incorrect_indices = np.where(y_test_arr != y_predict)[0]\n",
    "incorrect_labels = y_test[incorrect_indices]# Extract the corresponding true labels (y_test) for incorrect predictions\n",
    "total_per_digit = np.bincount(sorted(y_test_arr), minlength=10) # Calculate the total occurrences of each digit in the test set\n",
    "incorrect_per_digit = np.bincount(sorted(incorrect_labels), minlength=10)  # Calculate the incorrect occurrences for each digit\n",
    "percentage_incorrect_per_digit = (incorrect_per_digit / total_per_digit) * 100  # Calculate the percentage of incorrect predictions for each digit\n",
    "\n",
    "# Plot the percentage of incorrect predictions for each digit\n",
    "plt.figure(figsize=(3,2))\n",
    "plt.bar(np.arange(10), percentage_incorrect_per_digit, color='red', edgecolor='black', linewidth = 2, width=0.5)\n",
    "plt.xticks(np.arange(10))  # Digits 0 to 9\n",
    "plt.xlabel('True Digit Label')\n",
    "plt.ylabel('Incorrect Predictions (%)')\n",
    "plt.title('Incorrect Predictions (in %) for Each Digit\\n'+f\"average: {np.mean(percentage_incorrect_per_digit):.2f} %\", fontsize=10, fontweight='bold')\n",
    "plt.grid(True, lw=0.5, color = 'k')\n",
    "plt.show()\n"
   ]
  },
  {
   "cell_type": "code",
   "execution_count": null,
   "id": "d90037b3-d783-44ba-9cc2-db964bcfc329",
   "metadata": {},
   "outputs": [],
   "source": []
  }
 ],
 "metadata": {
  "kernelspec": {
   "display_name": "Python 3 (ipykernel)",
   "language": "python",
   "name": "python3"
  },
  "language_info": {
   "codemirror_mode": {
    "name": "ipython",
    "version": 3
   },
   "file_extension": ".py",
   "mimetype": "text/x-python",
   "name": "python",
   "nbconvert_exporter": "python",
   "pygments_lexer": "ipython3",
   "version": "3.11.9"
  }
 },
 "nbformat": 4,
 "nbformat_minor": 5
}
