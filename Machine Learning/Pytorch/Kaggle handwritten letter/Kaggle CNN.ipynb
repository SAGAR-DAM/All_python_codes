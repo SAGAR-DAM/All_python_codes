{
 "cells": [
  {
   "cell_type": "markdown",
   "metadata": {},
   "source": [
    " <h1 style=\"color:green; font-family:Georgia\">\n",
    "\n",
    " CNN for Kaggle digit recognition with PyTorch ::\n",
    "\n",
    " <hr>\n",
    "\n",
    " </h1>"
   ]
  },
  {
   "cell_type": "markdown",
   "metadata": {},
   "source": [
    " <span style = \"font-family:Geogia; color:orange;  font-style:italic; font-size:14px\">\n",
    "\n",
    " The MNIST database (Modified National Institute of Standards and Technology database) is a large database of handwritten digits that is commonly used for training various image processing systems. The database is also widely used for training and testing in the field of machine learning. It was created by \"re-mixing\" the samples from NIST's original datasets. The creators felt that since NIST's training dataset was taken from American Census Bureau employees, while the testing dataset was taken from American high school students, it was not well-suited for machine learning experiments. Furthermore, the black and white images from NIST were normalized to fit into a 28x28 pixel bounding box and anti-aliased, which introduced grayscale levels.<br>\n",
    "\n",
    "\n",
    "\n",
    " The MNIST database contains 60,000 training images and 10,000 testing images. Half of the training set and half of the test set were taken from NIST's training dataset, while the other half of the training set and the other half of the test set were taken from NIST's testing dataset. The original creators of the database keep a list of some of the methods tested on it. In their original paper, they use a support-vector machine to get an error rate of 0.8%<br>\n",
    "\n",
    " </span>\n",
    "\n",
    "\n",
    "\n",
    " <h5 style=\"color:red; font-family:Georgia\">\n",
    "\n",
    " total number of images (instances): 70000 <br>\n",
    "\n",
    " total number of features: 784 (28$\\times$28 pixels = 784)\n",
    "\n",
    " </h5>\n",
    "\n",
    "\n",
    "\n",
    "\n",
    "\n",
    " For reference of each step see: https://chatgpt.com/share/66ffe9c1-5f98-8013-83b4-e797970250ab"
   ]
  },
  {
   "cell_type": "code",
   "execution_count": 23,
   "metadata": {},
   "outputs": [],
   "source": [
    "import numpy as np\n",
    "import matplotlib.pyplot as plt\n",
    "from ucimlrepo import fetch_ucirepo \n",
    "import pandas as pd\n",
    "import glob\n",
    "from Curve_fitting_with_scipy import Gaussianfitting as Gf\n",
    "from Curve_fitting_with_scipy import Linefitting as Lf\n",
    "from scipy.signal import fftconvolve\n",
    "from collections import defaultdict\n",
    "import PIL\n",
    "import joblib\n",
    "from tqdm import tqdm\n",
    "\n",
    "\n",
    "\n",
    "from sklearn.datasets import fetch_openml\n",
    "from sklearn.impute import SimpleImputer\n",
    "from sklearn.compose import ColumnTransformer\n",
    "from sklearn.pipeline import Pipeline\n",
    "from sklearn.preprocessing import OneHotEncoder, StandardScaler, OrdinalEncoder, LabelEncoder, MinMaxScaler\n",
    "from sklearn.base import BaseEstimator, TransformerMixin\n",
    "from sklearn.model_selection import train_test_split, cross_val_score\n",
    "from sklearn.tree import DecisionTreeClassifier\n",
    "from sklearn.ensemble import RandomForestClassifier, ExtraTreesClassifier, ExtraTreesRegressor\n",
    "from sklearn.feature_selection import f_classif\n",
    "from sklearn.neighbors import KNeighborsClassifier\n",
    "from sklearn.metrics import root_mean_squared_error, accuracy_score\n",
    "from sklearn.linear_model import LinearRegression, LogisticRegression\n",
    "\n",
    "\n",
    "\n",
    "from xgboost import XGBRegressor, XGBClassifier, XGBRFClassifier, XGBRFRegressor\n",
    "from catboost import CatBoostClassifier, CatBoostRegressor\n",
    "from lightgbm import LGBMClassifier, LGBMRegressor\n",
    "\n",
    "\n",
    "\n",
    "import torch\n",
    "import torch.nn as nn\n",
    "import torch.nn.functional as F\n",
    "import torch.optim as optim\n",
    "from torch.utils.data import DataLoader\n",
    "import torchvision.datasets as datasets\n",
    "import torchvision.transforms as transformers\n",
    "from torch.utils.data import Dataset\n",
    "\n",
    "device = torch.device('cuda' if torch.cuda.is_available() else 'cpu')\n",
    "\n",
    "\n",
    "import matplotlib as mpl\n",
    "mpl.rcParams['font.family'] = 'serif'\n",
    "mpl.rcParams['font.serif'] = 'Times New Roman'\n",
    "mpl.rcParams['font.size'] = 12\n",
    "mpl.rcParams['font.weight'] = 'bold'\n",
    "#mpl.rcParams['font.style'] = 'italic'  # Set this to 'italic'\n",
    "mpl.rcParams['figure.dpi'] = 120  # highres display\n"
   ]
  },
  {
   "cell_type": "markdown",
   "metadata": {},
   "source": [
    " <h4 style=\"color:orange; font-family:Georgia; text-decoration: underline\">\n",
    "\n",
    " Getting the data :\n",
    "\n",
    " </h4>"
   ]
  },
  {
   "cell_type": "code",
   "execution_count": 24,
   "metadata": {},
   "outputs": [
    {
     "name": "stdout",
     "output_type": "stream",
     "text": [
      "data shape: (200000, 785)\n"
     ]
    }
   ],
   "source": [
    "file_path = \"D:\\\\ML Dataset\\\\Kaggle handwritten alphabet a-z\\\\handwritten_data_785.csv\"\n",
    "# Read the CSV file into a DataFrame\n",
    "data = pd.read_csv(file_path)\n",
    "\n",
    "shuffled_index = np.random.permutation(data.shape[0])\n",
    "data = data.iloc[shuffled_index]\n",
    "del shuffled_index\n",
    "\n",
    "data = data.iloc[:200000]\n",
    "print(f\"data shape: {data.shape}\")\n"
   ]
  },
  {
   "cell_type": "markdown",
   "metadata": {},
   "source": [
    " <h4 style=\"color:orange; font-family:Georgia; text-decoration: underline\">\n",
    "\n",
    " Separating out features and labels:\n",
    "\n",
    " </h4>"
   ]
  },
  {
   "cell_type": "code",
   "execution_count": 25,
   "metadata": {},
   "outputs": [
    {
     "name": "stdout",
     "output_type": "stream",
     "text": [
      "train shape: (160000, 785)\n"
     ]
    }
   ],
   "source": [
    "train_percent = int(data.shape[0]*0.8)\n",
    "\n",
    "data_train, data_test = data[:train_percent], data[train_percent:]\n",
    "x_train = np.array(data_train.drop(\"0\",axis=1))\n",
    "y_train = np.array(data_train[\"0\"])\n",
    "\n",
    "x_test = np.array(data_test.drop(\"0\",axis=1))\n",
    "y_test = np.array(data_test[\"0\"])\n",
    "\n",
    "print(f\"train shape: {data_train.shape}\")\n",
    "\n",
    "del data, data_train, data_test\n"
   ]
  },
  {
   "cell_type": "markdown",
   "metadata": {},
   "source": [
    " <h4 style=\"color:orange; font-family:Georgia; text-decoration: underline\">\n",
    "\n",
    " Preprocessing with sklearn for imputing and scaling\n",
    "\n",
    " </h4>"
   ]
  },
  {
   "cell_type": "code",
   "execution_count": 26,
   "metadata": {},
   "outputs": [],
   "source": [
    "pipeline = Pipeline([\n",
    "                    ('imputer',SimpleImputer(strategy='median')),\n",
    "                    ('std_scalar',StandardScaler()),\n",
    "                     # add as many as you want...\n",
    "                    ])\n",
    "\n",
    "image_width = 28  # no of pixels in horizontal dimension in the actual image (physical data)\n",
    "image_height = 28  # no of pixels in vertical dimension in the actual image (physical data)\n",
    "\n",
    "x_train = pipeline.fit_transform(x_train)\n",
    "x_test = pipeline.fit_transform(x_test)\n",
    "\n",
    "x_train = x_train.reshape(-1,image_width,image_height)\n",
    "x_test = x_test.reshape(-1,image_width,image_height)\n",
    "\n",
    "x_train = torch.tensor(x_train)\n",
    "y_train = torch.tensor(y_train)\n",
    "\n",
    "x_test = torch.tensor(x_test)\n",
    "y_test = torch.tensor(y_test)\n",
    "\n",
    "# Reshape x_train to have the correct shape for the CNN\n",
    "x_train = x_train.view(-1, 1, image_width, image_height)  # Reshape to [batch_size, 1, 28, 28]\n",
    "x_test = x_test.view(-1, 1, image_width, image_height)    # Reshape x_test similarly if needed\n"
   ]
  },
  {
   "cell_type": "markdown",
   "metadata": {},
   "source": [
    " <h4 style=\"color:orange; font-family:Georgia; text-decoration: underline\">\n",
    "\n",
    " Defining the neural network class:\n",
    "\n",
    " </h4>"
   ]
  },
  {
   "cell_type": "code",
   "execution_count": 27,
   "metadata": {},
   "outputs": [],
   "source": [
    "input_dimension = x_train[0].shape[0]\n",
    "output_dimension = len(set(np.array(y_train)))\n",
    "\n",
    "# Define the ConvolutionalNeuralNetwork architecture\n",
    "class ConvolutionalNeuralNetwork(nn.Module):\n",
    "    def __init__(self, conv_layers, fc_layers_dims, output_dimension=output_dimension):\n",
    "        super(ConvolutionalNeuralNetwork, self).__init__()\n",
    "        \n",
    "        # Convolutional layers\n",
    "        self.conv_layers = nn.ModuleList()\n",
    "        in_channels = 1  # MNIST images are grayscale, so 1 input channel\n",
    "        \n",
    "        for (out_channels, kernel_size, stride, padding) in conv_layers:\n",
    "            self.conv_layers.append(nn.Conv2d(in_channels, out_channels, kernel_size, stride, padding))\n",
    "            in_channels = out_channels  # Update the number of input channels for the next layer\n",
    "        \n",
    "        # Fully connected layers\n",
    "        self.fc_layers = nn.ModuleList()\n",
    "        input_dim = fc_layers_dims[0]  # The size after flattening the convolutional layer output\n",
    "        for dim in fc_layers_dims[1:]:\n",
    "            self.fc_layers.append(nn.Linear(input_dim, dim))\n",
    "            input_dim = dim  # Update the input size for the next layer\n",
    "        \n",
    "        # Output layer\n",
    "        self.output_layer = nn.Linear(input_dim, output_dimension)\n",
    "    \n",
    "    def forward(self, x):\n",
    "        # Pass through convolutional layers\n",
    "        for conv in self.conv_layers:\n",
    "            x = F.relu(conv(x))\n",
    "            x = F.max_pool2d(x, 2)  # Max pooling after each conv layer\n",
    "        \n",
    "        # Flatten the output of the conv layers for the fully connected layers\n",
    "        x = x.view(x.size(0), -1)\n",
    "        \n",
    "        # Pass through fully connected layers\n",
    "        for fc in self.fc_layers:\n",
    "            x = F.relu(fc(x))\n",
    "        \n",
    "        # Output layer (no activation, as we use CrossEntropyLoss which applies softmax internally)\n",
    "        x = self.output_layer(x)\n",
    "        return x\n",
    "\n",
    "# Training and testing functions remain similar to your existing fully connected NN code\n",
    "class TorchPipeline:\n",
    "    def __init__(self, model, optimizer, criterion=nn.CrossEntropyLoss(),  \n",
    "                 batch_size=64, epochs=5, learning_rate=0.001):\n",
    "        self.model = model\n",
    "        self.criterion = criterion\n",
    "        self.optimizer = optimizer\n",
    "        self.batch_size = batch_size\n",
    "        self.epochs = epochs\n",
    "        self.learning_rate = learning_rate\n",
    "    \n",
    "    def fit(self, x_train, y_train, device=torch.device('cuda' if torch.cuda.is_available() else 'cpu'), print_after=10):\n",
    "        self.model.to(device)\n",
    "        self.model.train()\n",
    "        num_samples = x_train.size(0)\n",
    "\n",
    "        # ANSI color codes\n",
    "        # Foreground (text) colors\n",
    "        BLACK = \"\\033[30m\"\n",
    "        RED = \"\\033[91m\"\n",
    "        GREEN = \"\\033[92m\"\n",
    "        YELLOW = \"\\033[93m\"\n",
    "        BLUE = \"\\033[94m\"\n",
    "        MAGENTA = \"\\033[95m\"\n",
    "        CYAN = \"\\033[96m\"\n",
    "        WHITE = \"\\033[97m\"\n",
    "\n",
    "        text_color = [RED,GREEN,YELLOW,BLUE,MAGENTA,CYAN,WHITE]\n",
    "\n",
    "        # Background colors\n",
    "        BG_BLACK = \"\\033[40m\"\n",
    "        BG_RED = \"\\033[41m\"\n",
    "        BG_GREEN = \"\\033[42m\"\n",
    "        BG_YELLOW = \"\\033[43m\"\n",
    "        BG_BLUE = \"\\033[44m\"\n",
    "        BG_MAGENTA = \"\\033[45m\"\n",
    "        BG_CYAN = \"\\033[46m\"\n",
    "        BG_WHITE = \"\\033[47m\"\n",
    "\n",
    "        # Reset color\n",
    "        RESET = \"\\033[0m\"\n",
    "\n",
    "        for epoch in range(1, self.epochs + 1):\n",
    "            # Initialize tqdm progress bar for the epoch\n",
    "            C = text_color[epoch%len(text_color)-1]\n",
    "            with tqdm(total=num_samples, desc=f'Epoch {epoch}/{self.epochs}', ncols=100, unit=\" samples\",\n",
    "                     bar_format=f\"{{l_bar}}{C}{{bar}}{RESET}|{{n_fmt}}/{{total_fmt}} [{GREEN}{{percentage:.0f}}%{RESET}]{{postfix}}\") as pbar:\n",
    "                for batch_start in range(0, num_samples, self.batch_size):\n",
    "                    batch_end = min(batch_start + self.batch_size, num_samples)\n",
    "                    data = x_train[batch_start:batch_end].to(device).float()\n",
    "                    target = y_train[batch_start:batch_end].to(device)\n",
    "    \n",
    "                    # Zero the parameter gradients\n",
    "                    self.optimizer.zero_grad()\n",
    "    \n",
    "                    # Forward pass\n",
    "                    output = self.model(data)\n",
    "    \n",
    "                    # Calculate loss\n",
    "                    loss = self.criterion(output, target)\n",
    "    \n",
    "                    # Backward pass and optimize\n",
    "                    loss.backward()\n",
    "                    self.optimizer.step()\n",
    "    \n",
    "                    # Update progress bar\n",
    "                    pbar.update(batch_end - batch_start)\n",
    "    \n",
    "                    # Optionally print intermediate progress (e.g., after a certain number of batches)\n",
    "                    if batch_start % (print_after * self.batch_size) == 0:\n",
    "                        pbar.set_postfix({\"Loss\": f'{loss.item():.6f}'})\n",
    "                print(\"==============================================================================\\n\")\n",
    "                    \n",
    "                    \n",
    "    def predict(self, x_test, y_test, device = torch.device('cuda' if torch.cuda.is_available() else 'cpu')):\n",
    "        self.model.eval()  # Set model to evaluation mode\n",
    "        num_samples = x_test.size(0)\n",
    "        all_predictions = []  # To store all predicted labels\n",
    "        correct = 0  # To count correct predictions\n",
    "\n",
    "        with torch.no_grad():  # Disable gradient computation for prediction\n",
    "            for batch_start in range(0, num_samples, self.batch_size):\n",
    "                batch_end = min(batch_start + self.batch_size, num_samples)\n",
    "                data = x_test[batch_start:batch_end].to(device).float()\n",
    "                target = y_test[batch_start:batch_end].to(device)\n",
    "\n",
    "                # Forward pass\n",
    "                output = self.model(data)\n",
    "                \n",
    "                # Get the index of the max log-probability (prediction)\n",
    "                pred = output.argmax(dim=1, keepdim=True)  # Shape: [batch_size, 1]\n",
    "                all_predictions.append(pred.cpu().numpy())  # Store predictions\n",
    "                \n",
    "                # Count correct predictions\n",
    "                correct += pred.eq(target.view_as(pred)).sum().item()\n",
    "\n",
    "        # Concatenate all predictions into a single array\n",
    "        all_predictions = np.concatenate(all_predictions)\n",
    "\n",
    "        # Calculate accuracy\n",
    "        accuracy = 100. * correct / num_samples\n",
    "        print(f'\\nTest set: Accuracy: {correct}/{num_samples} ({accuracy:.0f}%)\\n')\n",
    "\n",
    "        return all_predictions, accuracy\n"
   ]
  },
  {
   "cell_type": "markdown",
   "metadata": {},
   "source": [
    " <h4 style=\"color:orange; font-family:Georgia; text-decoration: underline\">\n",
    "\n",
    " Creating the model and hyperparameters\n",
    "\n",
    " </h4>"
   ]
  },
  {
   "cell_type": "code",
   "execution_count": 28,
   "metadata": {},
   "outputs": [],
   "source": [
    "# Example usage:\n",
    "\n",
    "# Define the conv layers as specified\n",
    "conv_layers = [\n",
    "    (16, 3, 1, 0),  # Conv layer 1: 16 filters, 4x4 kernel, stride 1, padding 1\n",
    "    (32, 3, 1, 0),  # Conv layer 2: 32 filters, 3x3 kernel, stride 1, padding 0\n",
    "    (64, 3, 1, 0),  # Conv layer 3: 64 filters, 4x4 kernel, stride 1, padding 0\n",
    "]\n",
    "\n",
    "# Calculate the flattened size after the convolutional layers\n",
    "# Start with input size 28x28 (for MNIST images)\n",
    "def calculate_flattened_size(input_height, input_width, conv_layers):\n",
    "    height = input_height\n",
    "    width = input_width\n",
    "    for (out_channels, kernel_size, stride, padding) in conv_layers:\n",
    "        # Calculate new height and width after each convolutional layer\n",
    "        height = (height - kernel_size + 2 * padding) // stride + 1\n",
    "        width = (width - kernel_size + 2 * padding) // stride + 1\n",
    "        \n",
    "        # Assuming max pooling follows each convolutional layer\n",
    "        height = height // 2\n",
    "        width = width // 2\n",
    "        \n",
    "    # Multiply by the number of output channels of the last conv layer\n",
    "    return height * width * conv_layers[-1][0]\n",
    "\n",
    "\n",
    "# Calculating the size after conv layers\n",
    "calculated_proper_input_dim = calculate_flattened_size(input_height=image_height,input_width=image_width, conv_layers=conv_layers)\n",
    "\n",
    "# Define fully connected layers\n",
    "fc_layers_dims = [calculated_proper_input_dim, 256, 128]\n",
    "\n",
    "# Instantiate the model\n",
    "model = ConvolutionalNeuralNetwork(conv_layers, fc_layers_dims, output_dimension=output_dimension).to(device)\n",
    "learning_rate = 0.001\n",
    "batch_size = 300\n",
    "epochs = 10\n",
    "\n",
    "# Define the optimizer and loss function\n",
    "optimizer = optim.Adam(model.parameters(), lr=0.001)\n",
    "criterion = nn.CrossEntropyLoss()\n"
   ]
  },
  {
   "cell_type": "code",
   "execution_count": 29,
   "metadata": {},
   "outputs": [],
   "source": [
    "# Create the pipeline object\n",
    "torchpipeline = TorchPipeline(model=model, \n",
    "                         criterion=criterion, \n",
    "                         optimizer=optimizer, \n",
    "                         batch_size=batch_size, \n",
    "                         epochs=epochs)\n"
   ]
  },
  {
   "cell_type": "markdown",
   "metadata": {},
   "source": [
    " <h4 style=\"color:orange; font-family:Georgia; text-decoration: underline\">\n",
    "\n",
    " Fitting the data\n",
    "\n",
    " </h4>"
   ]
  },
  {
   "cell_type": "code",
   "execution_count": 30,
   "metadata": {},
   "outputs": [
    {
     "name": "stderr",
     "output_type": "stream",
     "text": [
      "Epoch 1/10: 100%|\u001b[91m███████████████████████████████████████████████\u001b[0m|160000/160000 [\u001b[92m100%\u001b[0m], Loss=0.393246\u001b[0m\n"
     ]
    },
    {
     "name": "stdout",
     "output_type": "stream",
     "text": [
      "==============================================================================\n",
      "\n"
     ]
    },
    {
     "name": "stderr",
     "output_type": "stream",
     "text": [
      "Epoch 2/10: 100%|\u001b[92m███████████████████████████████████████████████\u001b[0m|160000/160000 [\u001b[92m100%\u001b[0m], Loss=0.201497\u001b[0m\n"
     ]
    },
    {
     "name": "stdout",
     "output_type": "stream",
     "text": [
      "==============================================================================\n",
      "\n"
     ]
    },
    {
     "name": "stderr",
     "output_type": "stream",
     "text": [
      "Epoch 3/10: 100%|\u001b[93m███████████████████████████████████████████████\u001b[0m|160000/160000 [\u001b[92m100%\u001b[0m], Loss=0.157092\u001b[0m\n"
     ]
    },
    {
     "name": "stdout",
     "output_type": "stream",
     "text": [
      "==============================================================================\n",
      "\n"
     ]
    },
    {
     "name": "stderr",
     "output_type": "stream",
     "text": [
      "Epoch 4/10: 100%|\u001b[94m███████████████████████████████████████████████\u001b[0m|160000/160000 [\u001b[92m100%\u001b[0m], Loss=0.149210\u001b[0m\n"
     ]
    },
    {
     "name": "stdout",
     "output_type": "stream",
     "text": [
      "==============================================================================\n",
      "\n"
     ]
    },
    {
     "name": "stderr",
     "output_type": "stream",
     "text": [
      "Epoch 5/10: 100%|\u001b[95m███████████████████████████████████████████████\u001b[0m|160000/160000 [\u001b[92m100%\u001b[0m], Loss=0.116980\u001b[0m\n"
     ]
    },
    {
     "name": "stdout",
     "output_type": "stream",
     "text": [
      "==============================================================================\n",
      "\n"
     ]
    },
    {
     "name": "stderr",
     "output_type": "stream",
     "text": [
      "Epoch 6/10: 100%|\u001b[96m███████████████████████████████████████████████\u001b[0m|160000/160000 [\u001b[92m100%\u001b[0m], Loss=0.100486\u001b[0m\n"
     ]
    },
    {
     "name": "stdout",
     "output_type": "stream",
     "text": [
      "==============================================================================\n",
      "\n"
     ]
    },
    {
     "name": "stderr",
     "output_type": "stream",
     "text": [
      "Epoch 7/10: 100%|\u001b[97m███████████████████████████████████████████████\u001b[0m|160000/160000 [\u001b[92m100%\u001b[0m], Loss=0.094976\u001b[0m\n"
     ]
    },
    {
     "name": "stdout",
     "output_type": "stream",
     "text": [
      "==============================================================================\n",
      "\n"
     ]
    },
    {
     "name": "stderr",
     "output_type": "stream",
     "text": [
      "Epoch 8/10: 100%|\u001b[91m███████████████████████████████████████████████\u001b[0m|160000/160000 [\u001b[92m100%\u001b[0m], Loss=0.099407\u001b[0m\n"
     ]
    },
    {
     "name": "stdout",
     "output_type": "stream",
     "text": [
      "==============================================================================\n",
      "\n"
     ]
    },
    {
     "name": "stderr",
     "output_type": "stream",
     "text": [
      "Epoch 9/10: 100%|\u001b[92m███████████████████████████████████████████████\u001b[0m|160000/160000 [\u001b[92m100%\u001b[0m], Loss=0.097029\u001b[0m\n"
     ]
    },
    {
     "name": "stdout",
     "output_type": "stream",
     "text": [
      "==============================================================================\n",
      "\n"
     ]
    },
    {
     "name": "stderr",
     "output_type": "stream",
     "text": [
      "Epoch 10/10: 100%|\u001b[93m██████████████████████████████████████████████\u001b[0m|160000/160000 [\u001b[92m100%\u001b[0m], Loss=0.092547\u001b[0m"
     ]
    },
    {
     "name": "stdout",
     "output_type": "stream",
     "text": [
      "==============================================================================\n",
      "\n"
     ]
    },
    {
     "name": "stderr",
     "output_type": "stream",
     "text": [
      "\n"
     ]
    }
   ],
   "source": [
    "# Fitting the model\n",
    "torchpipeline.fit(x_train, y_train, print_after=25)\n"
   ]
  },
  {
   "cell_type": "markdown",
   "metadata": {},
   "source": [
    " <h4 style=\"color:orange; font-family:Georgia; text-decoration: underline\">\n",
    "\n",
    " Predict test data and getting error for each class\n",
    "\n",
    " </h4>"
   ]
  },
  {
   "cell_type": "code",
   "execution_count": 31,
   "metadata": {},
   "outputs": [
    {
     "name": "stdout",
     "output_type": "stream",
     "text": [
      "\n",
      "Test set: Accuracy: 38820/40000 (97%)\n",
      "\n"
     ]
    }
   ],
   "source": [
    "# Making predictions\n",
    "y_predict, accuracy = torchpipeline.predict(x_test, y_test, device)\n"
   ]
  },
  {
   "cell_type": "code",
   "execution_count": 32,
   "metadata": {},
   "outputs": [
    {
     "name": "stdout",
     "output_type": "stream",
     "text": [
      "accuracy_score:  97.05 %\n"
     ]
    },
    {
     "data": {
      "image/png": "[encoded data removed]",
      "text/plain": [
       "<Figure size 960x360 with 1 Axes>"
      ]
     },
     "metadata": {},
     "output_type": "display_data"
    }
   ],
   "source": [
    "y_test_arr = np.array(y_test,dtype=np.int32)\n",
    "y_predict = (np.array(y_predict)).reshape(y_test_arr.shape)\n",
    "\n",
    "acc_score = accuracy_score(y_test_arr,y_predict)\n",
    "print(f\"accuracy_score:  {100*acc_score:.2f} %\")\n",
    "\n",
    "# Identify incorrect predictions\n",
    "incorrect_indices = np.where(y_test_arr != y_predict)[0]\n",
    "incorrect_labels = y_test[incorrect_indices]# Extract the corresponding true labels (y_test) for incorrect predictions\n",
    "total_per_digit = np.bincount(sorted(y_test_arr), minlength=10) # Calculate the total occurrences of each digit in the test set\n",
    "incorrect_per_digit = np.bincount(sorted(incorrect_labels), minlength=10)  # Calculate the incorrect occurrences for each digit\n",
    "percentage_incorrect_per_digit = (incorrect_per_digit / total_per_digit) * 100  # Calculate the percentage of incorrect predictions for each digit\n",
    "\n",
    "# Plot the percentage of incorrect predictions for each digit\n",
    "plt.figure(figsize=(8,3))\n",
    "plt.bar(np.arange(output_dimension), percentage_incorrect_per_digit, color='red', edgecolor='black', linewidth = 2, width=0.5)\n",
    "plt.xticks(np.arange(output_dimension))  # Digits 0 to 9\n",
    "plt.xlabel('True Digit Label')\n",
    "plt.ylabel('Incorrect Predictions (%)')\n",
    "plt.title('Incorrect Predictions (in %) for Each Digit\\n'+f\"average: {np.mean(percentage_incorrect_per_digit):.2f} %\", fontsize=10, fontweight='bold')\n",
    "plt.grid(True, lw=0.5, color = 'k')\n",
    "plt.show()\n"
   ]
  },
  {
   "cell_type": "code",
   "execution_count": 33,
   "metadata": {},
   "outputs": [
    {
     "data": {
      "image/png": "[encoded data removed]",
      "text/plain": [
       "<Figure size 768x576 with 2 Axes>"
      ]
     },
     "metadata": {},
     "output_type": "display_data"
    }
   ],
   "source": [
    "index = np.random.randint(len(y_test_arr)-1)\n",
    "\n",
    "\n",
    "@np.vectorize\n",
    "def n_th_alphabet(n):\n",
    "    if(0<=n<=25):\n",
    "        return chr(65+n)\n",
    "    else:\n",
    "        pass\n",
    "\n",
    "random_image = np.array((x_test[index])).reshape(28,28)\n",
    "# print(random_image)\n",
    "plt.imshow(random_image, cmap='gray')\n",
    "plt.colorbar()\n",
    "plt.axis(\"off\")\n",
    "plt.title(f\"index: {index};  Digit: {y_test_arr[index]};  predict: {y_predict[index]} ({n_th_alphabet(y_predict[index])})\")\n",
    "plt.show()\n"
   ]
  },
  {
   "cell_type": "code",
   "execution_count": null,
   "metadata": {},
   "outputs": [],
   "source": []
  }
 ],
 "metadata": {
  "kernelspec": {
   "display_name": "Python 3",
   "language": "python",
   "name": "python3"
  },
  "language_info": {
   "codemirror_mode": {
    "name": "ipython",
    "version": 3
   },
   "file_extension": ".py",
   "mimetype": "text/x-python",
   "name": "python",
   "nbconvert_exporter": "python",
   "pygments_lexer": "ipython3",
   "version": "3.11.9"
  }
 },
 "nbformat": 4,
 "nbformat_minor": 2
}
