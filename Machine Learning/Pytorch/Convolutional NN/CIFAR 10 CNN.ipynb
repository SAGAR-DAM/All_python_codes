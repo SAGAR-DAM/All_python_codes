{
 "cells": [
  {
   "cell_type": "code",
   "execution_count": 1,
   "metadata": {},
   "outputs": [],
   "source": [
    "import numpy as np\n",
    "import matplotlib.pyplot as plt\n",
    "from ucimlrepo import fetch_ucirepo \n",
    "import pandas as pd\n",
    "import glob\n",
    "from Curve_fitting_with_scipy import Gaussianfitting as Gf\n",
    "from Curve_fitting_with_scipy import Linefitting as Lf\n",
    "from scipy.signal import fftconvolve\n",
    "from collections import defaultdict\n",
    "import PIL\n",
    "import joblib\n",
    "from tqdm import tqdm\n",
    "import pickle\n",
    "\n",
    "\n",
    "\n",
    "from sklearn.datasets import fetch_openml\n",
    "from sklearn.impute import SimpleImputer\n",
    "from sklearn.compose import ColumnTransformer\n",
    "from sklearn.pipeline import Pipeline\n",
    "from sklearn.preprocessing import OneHotEncoder, StandardScaler, OrdinalEncoder, LabelEncoder, MinMaxScaler\n",
    "from sklearn.base import BaseEstimator, TransformerMixin\n",
    "from sklearn.model_selection import train_test_split, cross_val_score\n",
    "from sklearn.tree import DecisionTreeClassifier\n",
    "from sklearn.ensemble import RandomForestClassifier, ExtraTreesClassifier, ExtraTreesRegressor\n",
    "from sklearn.feature_selection import f_classif\n",
    "from sklearn.neighbors import KNeighborsClassifier\n",
    "from sklearn.metrics import root_mean_squared_error, accuracy_score\n",
    "from sklearn.linear_model import LinearRegression, LogisticRegression\n",
    "\n",
    "\n",
    "\n",
    "from xgboost import XGBRegressor, XGBClassifier, XGBRFClassifier, XGBRFRegressor\n",
    "from catboost import CatBoostClassifier, CatBoostRegressor\n",
    "from lightgbm import LGBMClassifier, LGBMRegressor\n",
    "\n",
    "\n",
    "\n",
    "import torch\n",
    "import torch.nn as nn\n",
    "import torch.nn.functional as F\n",
    "import torch.optim as optim\n",
    "from torch.utils.data import DataLoader\n",
    "import torchvision.datasets as datasets\n",
    "import torchvision.transforms as transformers\n",
    "from torch.utils.data import Dataset\n",
    "\n",
    "device = torch.device('cuda' if torch.cuda.is_available() else 'cpu')\n",
    "\n",
    "\n",
    "from Torch_modules.classes import FullyConnectedNeuralNetwork, TorchPipeline, get_numerical_categorical_boolean_columns\n",
    "from Torch_modules.classes import TotalImputer, CategoricalToNumerical, NumericalNormalizedScaler, NumericalStandardScaler\n",
    "from Torch_modules.classes import ConvolutionalNeuralNetwork\n",
    "\n",
    "\n",
    "import matplotlib as mpl\n",
    "mpl.rcParams['font.family'] = 'serif'\n",
    "mpl.rcParams['font.serif'] = 'Times New Roman'\n",
    "mpl.rcParams['font.size'] = 12\n",
    "mpl.rcParams['font.weight'] = 'bold'\n",
    "#mpl.rcParams['font.style'] = 'italic'  # Set this to 'italic'\n",
    "mpl.rcParams['figure.dpi'] = 120  # highres display"
   ]
  },
  {
   "cell_type": "code",
   "execution_count": 2,
   "metadata": {},
   "outputs": [],
   "source": [
    "def unpickle(file):\n",
    "    with open(file, 'rb') as fo:\n",
    "        dict = pickle.load(fo, encoding='bytes')\n",
    "    return dict"
   ]
  },
  {
   "cell_type": "code",
   "execution_count": 3,
   "metadata": {},
   "outputs": [],
   "source": [
    "filename_train = glob.glob(\"D:\\\\ML Dataset\\\\cifar-10-python\\\\train data\\\\*\")\n",
    "filename_test = \"D:\\\\ML Dataset\\\\cifar-10-python\\\\test data\\\\test_batch\"\n",
    "filename_map = \"D:\\\\ML Dataset\\\\cifar-10-python\\\\batches.meta\""
   ]
  },
  {
   "cell_type": "code",
   "execution_count": 4,
   "metadata": {},
   "outputs": [],
   "source": [
    "map_dict = unpickle(filename_map)\n",
    "map = np.array(map_dict[b\"label_names\"],dtype=str)"
   ]
  },
  {
   "cell_type": "code",
   "execution_count": 5,
   "metadata": {},
   "outputs": [
    {
     "name": "stdout",
     "output_type": "stream",
     "text": [
      "x_train.shape: (50000, 3072);  y_train.shape: (50000,)\n",
      "x_test.shape: (10000, 3072);  y_test.shape: (10000,)\n"
     ]
    }
   ],
   "source": [
    "data_dict = unpickle(filename_train[0])\n",
    "x_train = np.array(data_dict[b\"data\"])\n",
    "y_train = np.array(data_dict[b\"labels\"])\n",
    "\n",
    "for filename in filename_train[1:]:\n",
    "    data_dict = unpickle(filename)\n",
    "    x_train = np.concatenate((x_train,np.array(data_dict[b\"data\"])),axis=0)\n",
    "    y_train = np.concatenate((y_train,np.array(data_dict[b\"labels\"])),axis=0)\n",
    "\n",
    "print(f\"x_train.shape: {x_train.shape};  y_train.shape: {y_train.shape}\")\n",
    "\n",
    "\n",
    "data_dict = unpickle(filename_test)\n",
    "x_test = np.array(data_dict[b\"data\"])\n",
    "y_test = np.array(data_dict[b\"labels\"])\n",
    "print(f\"x_test.shape: {x_test.shape};  y_test.shape: {y_test.shape}\")\n",
    "\n",
    "del data_dict"
   ]
  },
  {
   "cell_type": "code",
   "execution_count": 6,
   "metadata": {},
   "outputs": [],
   "source": [
    "x_train = x_train.reshape(-1,3,32,32)\n",
    "x_test = x_test.reshape(-1,3,32,32)\n",
    "\n",
    "x_train = torch.tensor(x_train)\n",
    "y_train = torch.tensor(y_train)\n",
    "\n",
    "x_test = torch.tensor(x_test)\n",
    "y_test = torch.tensor(y_test)\n",
    "\n",
    "# Ensure that y_train is a LongTensor otherwise it will throw error while calculating accuracy\n",
    "y_train = y_train.long()\n",
    "# If you're using x_test and y_test in a similar manner, ensure you convert them too:\n",
    "y_test = y_test.long()\n",
    "\n",
    "image_width = x_train.shape[2]\n",
    "image_height = x_train.shape[3]\n",
    "image_channel = x_train.shape[1]"
   ]
  },
  {
   "cell_type": "code",
   "execution_count": 7,
   "metadata": {},
   "outputs": [],
   "source": [
    "# Example usage:\n",
    "\n",
    "# Define the conv layers as specified\n",
    "conv_layers = [\n",
    "    (16, 2, 1, 0),  # Conv layer 1: 16 filters, 4x4 kernel, stride 1, padding 1\n",
    "    (32, 2, 1, 0),  # Conv layer 2: 32 filters, 3x3 kernel, stride 1, padding 0\n",
    "    (64, 2, 1, 0),  # Conv layer 3: 64 filters, 4x4 kernel, stride 1, padding 0\n",
    "]\n",
    "pool_kernels = [2, 2, 2]  # Different pooling kernels for each layer\n",
    "pooling_types = [\"no\",\"max\",\"avg\"]  # Different pooling types for each layer\n",
    "\n",
    "\n",
    "# Define fully connected layers\n",
    "fc_layers_dims = [512, 256, 128] # excludind first layer (output_of_conv -> input_on_fc)\n",
    "output_dimension=len(set(y_train))\n",
    "\n",
    "# Instantiate the model\n",
    "model = ConvolutionalNeuralNetwork(conv_layers=conv_layers,\n",
    "                                   fc_layers_dims=fc_layers_dims,\n",
    "                                   in_channels=image_channel,\n",
    "                                   output_dimension=output_dimension, \n",
    "                                   pooling_types=pooling_types, \n",
    "                                   pool_kernels=pool_kernels)\n",
    "learning_rate = 0.05\n",
    "batch_size = 300\n",
    "epochs = 15\n",
    "\n",
    "# Define the optimizer and loss function\n",
    "optimizer = optim.Adam(model.parameters(), lr=learning_rate)\n",
    "criterion = nn.CrossEntropyLoss()"
   ]
  },
  {
   "cell_type": "code",
   "execution_count": 8,
   "metadata": {},
   "outputs": [],
   "source": [
    "# Create the pipeline object\n",
    "torchpipeline = TorchPipeline(model=model, \n",
    "                         criterion=criterion, \n",
    "                         optimizer=optimizer, \n",
    "                         batch_size=batch_size, \n",
    "                         epochs=epochs)"
   ]
  },
  {
   "cell_type": "code",
   "execution_count": 9,
   "metadata": {},
   "outputs": [
    {
     "name": "stderr",
     "output_type": "stream",
     "text": [
      "Epoch 1/15: 100%|\u001b[92m████████████████████████████████████████████████\u001b[0m|50000/50000 [\u001b[91m100%\u001b[0m], Loss=10.609535\u001b[0m\n"
     ]
    },
    {
     "name": "stdout",
     "output_type": "stream",
     "text": [
      "==============================================================================\n",
      "\n"
     ]
    },
    {
     "name": "stderr",
     "output_type": "stream",
     "text": [
      "Epoch 2/15: 100%|\u001b[92m████████████████████████████████████████████████\u001b[0m|50000/50000 [\u001b[91m100%\u001b[0m], Loss=10.609798\u001b[0m\n"
     ]
    },
    {
     "name": "stdout",
     "output_type": "stream",
     "text": [
      "==============================================================================\n",
      "\n"
     ]
    },
    {
     "name": "stderr",
     "output_type": "stream",
     "text": [
      "Epoch 3/15: 100%|\u001b[92m████████████████████████████████████████████████\u001b[0m|50000/50000 [\u001b[91m100%\u001b[0m], Loss=10.610642\u001b[0m\n"
     ]
    },
    {
     "name": "stdout",
     "output_type": "stream",
     "text": [
      "==============================================================================\n",
      "\n"
     ]
    },
    {
     "name": "stderr",
     "output_type": "stream",
     "text": [
      "Epoch 4/15: 100%|\u001b[92m████████████████████████████████████████████████\u001b[0m|50000/50000 [\u001b[91m100%\u001b[0m], Loss=10.608945\u001b[0m\n"
     ]
    },
    {
     "name": "stdout",
     "output_type": "stream",
     "text": [
      "==============================================================================\n",
      "\n"
     ]
    },
    {
     "name": "stderr",
     "output_type": "stream",
     "text": [
      "Epoch 5/15: 100%|\u001b[92m████████████████████████████████████████████████\u001b[0m|50000/50000 [\u001b[91m100%\u001b[0m], Loss=10.609129\u001b[0m\n"
     ]
    },
    {
     "name": "stdout",
     "output_type": "stream",
     "text": [
      "==============================================================================\n",
      "\n"
     ]
    },
    {
     "name": "stderr",
     "output_type": "stream",
     "text": [
      "Epoch 6/15: 100%|\u001b[92m████████████████████████████████████████████████\u001b[0m|50000/50000 [\u001b[91m100%\u001b[0m], Loss=10.608985\u001b[0m\n"
     ]
    },
    {
     "name": "stdout",
     "output_type": "stream",
     "text": [
      "==============================================================================\n",
      "\n"
     ]
    },
    {
     "name": "stderr",
     "output_type": "stream",
     "text": [
      "Epoch 7/15: 100%|\u001b[92m████████████████████████████████████████████████\u001b[0m|50000/50000 [\u001b[91m100%\u001b[0m], Loss=10.595057\u001b[0m\n"
     ]
    },
    {
     "name": "stdout",
     "output_type": "stream",
     "text": [
      "==============================================================================\n",
      "\n"
     ]
    },
    {
     "name": "stderr",
     "output_type": "stream",
     "text": [
      "Epoch 8/15: 100%|\u001b[92m████████████████████████████████████████████████\u001b[0m|50000/50000 [\u001b[91m100%\u001b[0m], Loss=10.594599\u001b[0m\n"
     ]
    },
    {
     "name": "stdout",
     "output_type": "stream",
     "text": [
      "==============================================================================\n",
      "\n"
     ]
    },
    {
     "name": "stderr",
     "output_type": "stream",
     "text": [
      "Epoch 9/15: 100%|\u001b[92m████████████████████████████████████████████████\u001b[0m|50000/50000 [\u001b[91m100%\u001b[0m], Loss=10.594999\u001b[0m\n"
     ]
    },
    {
     "name": "stdout",
     "output_type": "stream",
     "text": [
      "==============================================================================\n",
      "\n"
     ]
    },
    {
     "name": "stderr",
     "output_type": "stream",
     "text": [
      "Epoch 10/15: 100%|\u001b[92m███████████████████████████████████████████████\u001b[0m|50000/50000 [\u001b[91m100%\u001b[0m], Loss=10.594774\u001b[0m\n"
     ]
    },
    {
     "name": "stdout",
     "output_type": "stream",
     "text": [
      "==============================================================================\n",
      "\n"
     ]
    },
    {
     "name": "stderr",
     "output_type": "stream",
     "text": [
      "Epoch 11/15: 100%|\u001b[92m███████████████████████████████████████████████\u001b[0m|50000/50000 [\u001b[91m100%\u001b[0m], Loss=10.594468\u001b[0m\n"
     ]
    },
    {
     "name": "stdout",
     "output_type": "stream",
     "text": [
      "==============================================================================\n",
      "\n"
     ]
    },
    {
     "name": "stderr",
     "output_type": "stream",
     "text": [
      "Epoch 12/15: 100%|\u001b[92m███████████████████████████████████████████████\u001b[0m|50000/50000 [\u001b[91m100%\u001b[0m], Loss=10.594740\u001b[0m\n"
     ]
    },
    {
     "name": "stdout",
     "output_type": "stream",
     "text": [
      "==============================================================================\n",
      "\n"
     ]
    },
    {
     "name": "stderr",
     "output_type": "stream",
     "text": [
      "Epoch 13/15: 100%|\u001b[92m███████████████████████████████████████████████\u001b[0m|50000/50000 [\u001b[91m100%\u001b[0m], Loss=10.590644\u001b[0m\n"
     ]
    },
    {
     "name": "stdout",
     "output_type": "stream",
     "text": [
      "==============================================================================\n",
      "\n"
     ]
    },
    {
     "name": "stderr",
     "output_type": "stream",
     "text": [
      "Epoch 14/15: 100%|\u001b[92m███████████████████████████████████████████████\u001b[0m|50000/50000 [\u001b[91m100%\u001b[0m], Loss=10.586299\u001b[0m\n"
     ]
    },
    {
     "name": "stdout",
     "output_type": "stream",
     "text": [
      "==============================================================================\n",
      "\n"
     ]
    },
    {
     "name": "stderr",
     "output_type": "stream",
     "text": [
      "Epoch 15/15: 100%|\u001b[92m███████████████████████████████████████████████\u001b[0m|50000/50000 [\u001b[91m100%\u001b[0m], Loss=10.586810\u001b[0m"
     ]
    },
    {
     "name": "stdout",
     "output_type": "stream",
     "text": [
      "==============================================================================\n",
      "\n"
     ]
    },
    {
     "name": "stderr",
     "output_type": "stream",
     "text": [
      "\n"
     ]
    }
   ],
   "source": [
    "# Fitting the model\n",
    "torchpipeline.fit(x_train, y_train, print_after=25)"
   ]
  },
  {
   "cell_type": "code",
   "execution_count": 10,
   "metadata": {},
   "outputs": [
    {
     "name": "stdout",
     "output_type": "stream",
     "text": [
      "\n",
      "Test set: Accuracy: 0/10000 (0%)\n",
      "\n"
     ]
    }
   ],
   "source": [
    "# Making predictions\n",
    "y_predict, accuracy = torchpipeline.predict(x_test, y_test, device)"
   ]
  },
  {
   "cell_type": "code",
   "execution_count": 11,
   "metadata": {},
   "outputs": [
    {
     "data": {
      "text/plain": [
       "ConvolutionalNeuralNetwork(\n",
       "  (conv_layers): ModuleList(\n",
       "    (0): Conv2d(3, 16, kernel_size=(2, 2), stride=(1, 1))\n",
       "    (1): Conv2d(16, 32, kernel_size=(2, 2), stride=(1, 1))\n",
       "    (2): Conv2d(32, 64, kernel_size=(2, 2), stride=(1, 1))\n",
       "  )\n",
       "  (fc_layers): ModuleList(\n",
       "    (0): Linear(in_features=3136, out_features=512, bias=True)\n",
       "    (1): Linear(in_features=512, out_features=256, bias=True)\n",
       "    (2): Linear(in_features=256, out_features=128, bias=True)\n",
       "  )\n",
       "  (output_layer): Linear(in_features=128, out_features=50000, bias=True)\n",
       ")"
      ]
     },
     "execution_count": 11,
     "metadata": {},
     "output_type": "execute_result"
    }
   ],
   "source": [
    "model"
   ]
  },
  {
   "cell_type": "code",
   "execution_count": 12,
   "metadata": {},
   "outputs": [
    {
     "data": {
      "text/plain": [
       "torch.Size([50000, 3, 32, 32])"
      ]
     },
     "execution_count": 12,
     "metadata": {},
     "output_type": "execute_result"
    }
   ],
   "source": [
    "x_train.shape"
   ]
  },
  {
   "cell_type": "code",
   "execution_count": 13,
   "metadata": {},
   "outputs": [],
   "source": [
    "def show_image():\n",
    "    rand = np.random.randint(low=0, high=20000)\n",
    "    image = x_train[rand]\n",
    "    image = image.permute(1, 2, 0)  # Change from (3, 32, 32) to (32, 32, 3)\n",
    "    image = np.array(image)\n",
    "    label_name = map[int(y_train[rand])]\n",
    "    plt.imshow(image)\n",
    "    plt.title(label_name)\n",
    "    plt.show()"
   ]
  },
  {
   "cell_type": "code",
   "execution_count": 14,
   "metadata": {},
   "outputs": [
    {
     "data": {
      "image/png": "[encoded data removed]",
      "text/plain": [
       "<Figure size 768x576 with 1 Axes>"
      ]
     },
     "metadata": {},
     "output_type": "display_data"
    }
   ],
   "source": [
    "show_image()"
   ]
  }
 ],
 "metadata": {
  "kernelspec": {
   "display_name": "Python 3",
   "language": "python",
   "name": "python3"
  },
  "language_info": {
   "codemirror_mode": {
    "name": "ipython",
    "version": 3
   },
   "file_extension": ".py",
   "mimetype": "text/x-python",
   "name": "python",
   "nbconvert_exporter": "python",
   "pygments_lexer": "ipython3",
   "version": "3.11.9"
  }
 },
 "nbformat": 4,
 "nbformat_minor": 2
}
