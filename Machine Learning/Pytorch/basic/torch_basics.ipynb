{
 "cells": [
  {
   "cell_type": "markdown",
   "id": "67621d86-c8f1-42bc-87f5-5c52a04f90c9",
   "metadata": {},
   "source": [
    "<span style = \"font-family:Geogia; color:orange;  font-style:italic; font-size:14px\">\n",
    "Basics of tensor use in torch Library <br>\n",
    "Creating and playing with tensors in pytorch<br>\n",
    "</span>"
   ]
  },
  {
   "cell_type": "code",
   "execution_count": 1,
   "id": "62280aad-1176-4d6e-b7a5-65b21d054dc7",
   "metadata": {},
   "outputs": [],
   "source": [
    "import numpy as np\n",
    "import jax.numpy as jnp\n",
    "import torch\n",
    "import matplotlib.pyplot as plt\n",
    "from ucimlrepo import fetch_ucirepo \n",
    "import pandas as pd\n",
    "import glob\n",
    "from Curve_fitting_with_scipy import Gaussianfitting as Gf\n",
    "from Curve_fitting_with_scipy import Linefitting as Lf\n",
    "from scipy.signal import fftconvolve\n",
    "from collections import defaultdict\n",
    "import PIL\n",
    "import joblib\n",
    "\n",
    "\n",
    "import matplotlib as mpl\n",
    "\n",
    "mpl.rcParams['font.family'] = 'serif'\n",
    "mpl.rcParams['font.serif'] = 'Times New Roman'\n",
    "mpl.rcParams['font.size'] = 12\n",
    "mpl.rcParams['font.weight'] = 'bold'\n",
    "#mpl.rcParams['font.style'] = 'italic'  # Set this to 'italic'\n",
    "mpl.rcParams['figure.dpi'] = 120  # highres display"
   ]
  },
  {
   "cell_type": "code",
   "execution_count": 9,
   "id": "90505525-2e0a-47cb-bb43-f42263cd3991",
   "metadata": {},
   "outputs": [
    {
     "data": {
      "text/plain": [
       "tensor([[[ 2, -2,  8],\n",
       "         [-2,  4, -3],\n",
       "         [-8,  8,  5]],\n",
       "\n",
       "        [[-6,  7,  2],\n",
       "         [ 9,  4,  3],\n",
       "         [ 3, -9, -9]]], dtype=torch.int32)"
      ]
     },
     "execution_count": 9,
     "metadata": {},
     "output_type": "execute_result"
    }
   ],
   "source": [
    "tensor = torch.tensor(np.random.randint(low=-10,high=10,size=(2,3,3)))  # basic tensor in torch\n",
    "tensor"
   ]
  },
  {
   "cell_type": "code",
   "execution_count": 10,
   "id": "3afec767-8b64-4e63-a765-f84eb3305e8b",
   "metadata": {},
   "outputs": [
    {
     "data": {
      "text/plain": [
       "tensor([[1., 0., 0., 0., 0.],\n",
       "        [0., 1., 0., 0., 0.],\n",
       "        [0., 0., 1., 0., 0.],\n",
       "        [0., 0., 0., 1., 0.],\n",
       "        [0., 0., 0., 0., 1.]])"
      ]
     },
     "execution_count": 10,
     "metadata": {},
     "output_type": "execute_result"
    }
   ],
   "source": [
    "tensor = torch.eye(5) # 5 th order identity martrix\n",
    "tensor"
   ]
  },
  {
   "cell_type": "code",
   "execution_count": 15,
   "id": "b159ecd3-3aaa-44a5-aac5-5077aacf7c97",
   "metadata": {},
   "outputs": [
    {
     "data": {
      "text/plain": [
       "array([[ -3,   5,   2],\n",
       "       [-10,  -9,   6],\n",
       "       [ -9,  -4,  -4]], dtype=int64)"
      ]
     },
     "execution_count": 15,
     "metadata": {},
     "output_type": "execute_result"
    }
   ],
   "source": [
    "tensor = torch.randint(low=0-10, high=10, size=(3, 3)) # random integer array with torch\n",
    "tensor = np.array(tensor)\n",
    "tensor"
   ]
  },
  {
   "cell_type": "code",
   "execution_count": 30,
   "id": "18f08b62-1eff-47fc-8664-dc5aecfde0d0",
   "metadata": {},
   "outputs": [
    {
     "data": {
      "text/plain": [
       "(array([ 8., 10., 13.,  8.,  6.,  8., 13.,  8., 11., 14., 14., 13.,  9.,\n",
       "        10.,  7., 10., 10., 11.,  9.,  8.]),\n",
       " array([-0.98339462, -0.88439012, -0.78538567, -0.68638116, -0.58737671,\n",
       "        -0.48837221, -0.38936773, -0.29036325, -0.19135876, -0.09235428,\n",
       "         0.00665021,  0.10565469,  0.20465918,  0.30366367,  0.40266815,\n",
       "         0.50167263,  0.60067713,  0.69968158,  0.79868609,  0.89769053,\n",
       "         0.99669504]),\n",
       " <BarContainer object of 20 artists>)"
      ]
     },
     "execution_count": 30,
     "metadata": {},
     "output_type": "execute_result"
    },
    {
     "data": {
      "image/png": "[encoded data removed]",
      "text/plain": [
       "<Figure size 240x240 with 1 Axes>"
      ]
     },
     "metadata": {},
     "output_type": "display_data"
    }
   ],
   "source": [
    "tensor = 2*torch.rand((200))-1\n",
    "plt.figure(figsize=(2,2))\n",
    "plt.hist(tensor,bins=20)"
   ]
  },
  {
   "cell_type": "code",
   "execution_count": 35,
   "id": "c4e3d867-098b-4676-bffb-493df3387adc",
   "metadata": {},
   "outputs": [
    {
     "name": "stdout",
     "output_type": "stream",
     "text": [
      "tensor([ 8, -3, -7], dtype=torch.int32)\n",
      "tensor([64,  9, 49], dtype=torch.int32)\n"
     ]
    }
   ],
   "source": [
    "tensor = torch.tensor(np.random.randint(low=-10,high=10,size=(3)))  # basic tensor in torch\n",
    "print(tensor)\n",
    "print(tensor**2)"
   ]
  },
  {
   "cell_type": "code",
   "execution_count": 36,
   "id": "325ffd23-0758-4d1b-ad0c-250fa521bd14",
   "metadata": {},
   "outputs": [
    {
     "name": "stdout",
     "output_type": "stream",
     "text": [
      "tensor([ 4, 10, 18])\n"
     ]
    }
   ],
   "source": [
    "tensor1 = torch.tensor([1,2,3])\n",
    "tensor2 = torch.tensor([4,5,6])  # element wise multiplication of tensors\n",
    "print(tensor1*tensor2)"
   ]
  },
  {
   "cell_type": "markdown",
   "id": "e957e188-26ea-413c-b62a-6d7aa64ea6b0",
   "metadata": {},
   "source": [
    "### dot product of tensor"
   ]
  },
  {
   "cell_type": "code",
   "execution_count": 41,
   "id": "466c51e1-f002-423e-9565-6478bacbd0cb",
   "metadata": {},
   "outputs": [
    {
     "name": "stdout",
     "output_type": "stream",
     "text": [
      "tensor([[ -2,  68,  14],\n",
      "        [-22, -32,  19],\n",
      "        [-22, -28, -60]], dtype=torch.int32)\n",
      "tensor([[ -2,  68,  14],\n",
      "        [-22, -32,  19],\n",
      "        [-22, -28, -60]], dtype=torch.int32)\n"
     ]
    }
   ],
   "source": [
    "a = torch.tensor(np.random.randint(low=-10,high=10,size=(3,3)))  # basic tensor in torch\n",
    "b = torch.tensor(np.random.randint(low=-10,high=10,size=(3,3)))  # basic tensor in torch\n",
    "\n",
    "# Matrix multiplication using einsum\n",
    "matrix_product = torch.einsum('ik,kj->ij', a, b)\n",
    "\n",
    "print(matrix_product)\n",
    "print(a@b)"
   ]
  },
  {
   "cell_type": "code",
   "execution_count": 52,
   "id": "f95c0518-ffcf-4d39-8abc-9076083f070f",
   "metadata": {},
   "outputs": [
    {
     "name": "stdout",
     "output_type": "stream",
     "text": [
      "torch.Size([2, 3, 5, 6])\n"
     ]
    }
   ],
   "source": [
    "# Define two rank-3 tensors\n",
    "A = torch.randn(2, 3, 4)  # Tensor A of shape (2, 3, 4)\n",
    "B = torch.randn(4, 5, 6)  # Tensor B of shape (4, 5, 6)\n",
    "\n",
    "# Perform tensor contraction on the shared dimension (k=4)\n",
    "# \"ijk,klm -> ijlm\" contracts over k, resulting in shape (2, 3, 5, 6)\n",
    "result = torch.einsum('ijk,klm->ijlm', A, B)\n",
    "\n",
    "# Print the resulting tensor shape\n",
    "print(result.shape)"
   ]
  },
  {
   "cell_type": "markdown",
   "id": "c78303df-e362-4dcf-9a2e-c62e55a7e94e",
   "metadata": {},
   "source": [
    "## tensor product of required dimension"
   ]
  },
  {
   "cell_type": "code",
   "execution_count": 66,
   "id": "08f9fac7-9717-4a89-94ff-405165f01562",
   "metadata": {},
   "outputs": [
    {
     "name": "stdout",
     "output_type": "stream",
     "text": [
      "torch.Size([2, 5, 6])\n",
      "torch.Size([5, 2, 6])\n",
      "torch.Size([5, 6, 2])\n",
      "<class 'torch.Tensor'>\n"
     ]
    }
   ],
   "source": [
    "# Define two rank-3 tensors\n",
    "A = torch.randn(2, 4)  # Tensor A of shape (2, 3, 4)\n",
    "B = torch.randn(4, 5, 6)  # Tensor B of shape (4, 5, 6)\n",
    "\n",
    "# Perform tensor contraction on the shared dimension (k=4)\n",
    "# \"ijk,klm -> ijlm\" contracts over k, resulting in shape (2, 3, 5, 6)\n",
    "result = torch.einsum('aj,jkl->akl', A, B)\n",
    "# Print the resulting tensor shape\n",
    "print(result.shape)\n",
    "\n",
    "result = torch.einsum('aj,jkl->kal', A, B)\n",
    "# Print the resulting tensor shape\n",
    "print(result.shape)\n",
    "\n",
    "result = torch.einsum('aj,jkl->kla', A, B)\n",
    "# Print the resulting tensor shape\n",
    "print(result.shape)\n",
    "print(type(result))"
   ]
  },
  {
   "cell_type": "code",
   "execution_count": 73,
   "id": "956fe9d6-79c5-4ae0-b462-ceebc28341e8",
   "metadata": {},
   "outputs": [
    {
     "name": "stdout",
     "output_type": "stream",
     "text": [
      "tensor([0.0000, 0.0000, 0.5000, 1.0000, 1.0000])\n"
     ]
    }
   ],
   "source": [
    "import torch.nn as nn\n",
    "# Define the custom activation function\n",
    "class CustomActivation(nn.Module):\n",
    "    def __init__(self):\n",
    "        super(CustomActivation, self).__init__()\n",
    "\n",
    "    def forward(self, x):\n",
    "        # Apply the piecewise activation function\n",
    "        return torch.where(x < 0, torch.tensor(0.0, device=x.device), \n",
    "                           torch.where(x < 1, x, torch.tensor(1.0, device=x.device)))\n",
    "    def forward1(self,x):\n",
    "        # Apply the piecewise activation function\n",
    "        return torch.where(x < 0, torch.tensor(0.0, device=x.device), \n",
    "                           torch.where(x < 1, x**2, torch.tensor(1.0, device=x.device)))\n",
    "\n",
    "# Example usage of the custom activation function\n",
    "activation = CustomActivation()\n",
    "\n",
    "# Example tensor\n",
    "x = torch.tensor([-1.5, 0.0, 0.5, 1.0, 1.5])\n",
    "\n",
    "output = activation(x)\n",
    "print(output)\n"
   ]
  },
  {
   "cell_type": "code",
   "execution_count": null,
   "id": "c468e74e-40b6-4dda-8e72-b8f2be6065e7",
   "metadata": {},
   "outputs": [],
   "source": []
  }
 ],
 "metadata": {
  "kernelspec": {
   "display_name": "Python 3 (ipykernel)",
   "language": "python",
   "name": "python3"
  },
  "language_info": {
   "codemirror_mode": {
    "name": "ipython",
    "version": 3
   },
   "file_extension": ".py",
   "mimetype": "text/x-python",
   "name": "python",
   "nbconvert_exporter": "python",
   "pygments_lexer": "ipython3",
   "version": "3.11.9"
  }
 },
 "nbformat": 4,
 "nbformat_minor": 5
}
