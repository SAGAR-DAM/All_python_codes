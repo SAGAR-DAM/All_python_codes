{
 "cells": [
  {
   "attachments": {},
   "cell_type": "markdown",
   "metadata": {},
   "source": [
    "# Nural Network with multiple layers:\n",
    "**The nural network are like:**\n",
    "$$\n",
    "L_n:\\ \\ y^n_1\\ \\ y_2^n\\ \\ y_3^n\\cdot\\cdot\\cdot y^n_{k_n}\\\\\n",
    "L_{n-1}: \\ \\ y^{n-1}_1\\ \\ y_2^{n-2}\\ \\ y_3^{n-3}\\cdot\\cdot\\cdot y^n_{k_n}\\\\\n",
    ".\\\\\n",
    ".\\\\\n",
    ".\\\\\n",
    "L_2:\\ \\ y^2_1\\ \\ y^2_2\\ \\ y^2_3\\cdot\\cdot\\cdot y^2_{k_2}\\\\\n",
    "L_2:\\ \\ y^2_1\\ \\ y^2_2\\ \\ y^2_3\\cdot\\cdot\\cdot y^2_{k_2}\n",
    "$$\n",
    "\n",
    "\n",
    "**The Layers are connected by:** $y^1\\rightarrow y^2 \\ \\ \\ and\\ \\ \\  y^2_i=f(z_i^2)$\n",
    "\n",
    "**z is the linear combination of y as:** \n",
    "\n",
    "$$z^2_i=w^{2,1}_{i,1}y^1_1+w^{2,1}_{i,2}y^1_2+...+w^{2,1}_{i,k_1}y^1_{k_1}\\\\\n",
    "i.e.\\ \\ z^2_i=\\sum_{j=1}^{k_1}w_{ij}^{2,1}y^1_{k_1}\n",
    "$$\n",
    "\n",
    "\n",
    "**The cost function is:**\n",
    "\n",
    "$$\n",
    "\\begin{aligned}\n",
    "C_i^{(2)} & =\\frac{1}{2}\\left\\langle\\left(f\\left(z_i^{(2)}\\right)-F\\left(z_i^2\\right)\\right)^2\\right\\rangle \\\\\n",
    "& \\left.=\\frac{1}{2}\\left\\langle f\\left(\\sum_{j=1}^{(k} w_{i j}^{2,1} y_j^{\\prime}\\right)-F\\left(z_i^2\\right)\\right)^2\\right\\rangle\n",
    "\\end{aligned}\n",
    "$$\n",
    "\n",
    "**Where F() is he true output and f() is the assumed function**\n",
    "\n",
    "**Our Goal is to minimize the cost function or the deviation from the true output:**\n",
    "\n",
    "$$\n",
    "\\begin{gathered}\n",
    "\\frac{\\partial c_i^{(2)}}{\\partial w_{i1}^{21}}=\\left\\langle\\left(f\\left(\\sum_i w_{i j}^{21} y_j^1\\right)-F\\left(z_i^2\\right)\\right) \\times\\right.\\left.f^{\\prime}\\left(z_i^{(2)}\\right) \\times \\frac{\\partial z_i^{(2)}}{\\partial w_{i 1}^{21}}\\right\\rangle\n",
    "\\end{gathered}  \\\\\n",
    "\n",
    "\\begin{aligned}\n",
    "= & \\langle\\left(f\\left(z_{i}^2\\right)-f\\left(z_i^2\\right)\\right)\\left.f^{\\prime}\\left(z_i^{(2)}\\right) \\times y_1^1\\right\\rangle\n",
    "\\end{aligned}\n",
    "$$\n",
    "\n",
    "**generally:** \n",
    "$$\\begin{gathered}\\frac{\\partial C_i^{n, n-1}}{\\partial w_{i j}^{n, n-1}}=\\left\\langle\\left(f\\left(z_i^n\\right)-F\\left(z_i^{(n)}\\right)\\right) \\times\\right.\\left.f^{\\prime}\\left(z_i^n\\right) \\times y_j^{n-1}\\right\\rangle\\end{gathered}$$\n",
    "\n",
    "**For the Multilayer transition and any general cost function at layer n the dependency on m,m-1 th layer (j,k) element pairing term:**\n",
    "\n",
    "$$\\boxed{\\frac{\\partial C_i^{n, n-1}}{\\partial w_{jk}^{m, m-1}}=\\left \\langle\\left(f(z^n_i)-F(z^n_i)\\right)\\times f'(z^n_i)\\times\\sum_{p_{n-1}}^{L_{n-1}}\\sum_{p_{n-2}}^{L_{n-2}}\\cdot\\cdot\\cdot\\sum_{p_m}^{L_m}\\left(M_{i,p_{n-1}}\\cdot M_{p_{n-1},p_{n-2}}\\cdot\\cdot\\cdot M_{p_{m+1},p_{m}}\\right)y^{m-1}_k\\right\\rangle} \\\\\n",
    "\n",
    "\\text{with,   }\\boxed{M_{k_rk_{r-1}}=w_{k_r,k_{r-1}}^{r,r-1}\\times f'(z_{k_{r-1}}^{r-1})\n",
    "}$$\n",
    "\n"
   ]
  }
 ],
 "metadata": {
  "kernelspec": {
   "display_name": "Python 3",
   "language": "python",
   "name": "python3"
  },
  "language_info": {
   "codemirror_mode": {
    "name": "ipython",
    "version": 3
   },
   "file_extension": ".py",
   "mimetype": "text/x-python",
   "name": "python",
   "nbconvert_exporter": "python",
   "pygments_lexer": "ipython3",
   "version": "3.11.2"
  },
  "orig_nbformat": 4
 },
 "nbformat": 4,
 "nbformat_minor": 2
}
