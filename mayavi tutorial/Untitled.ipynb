{
 "cells": [
  {
   "cell_type": "code",
   "execution_count": 3,
   "id": "c81887ca",
   "metadata": {},
   "outputs": [],
   "source": [
    "import numpy as np\n",
    "from mayavi import mlab"
   ]
  },
  {
   "cell_type": "code",
   "execution_count": 4,
   "id": "78c9309e",
   "metadata": {},
   "outputs": [
    {
     "data": {
      "text/plain": [
       "<mayavi.modules.vectors.Vectors at 0x27dc5b70680>"
      ]
     },
     "execution_count": 4,
     "metadata": {},
     "output_type": "execute_result"
    }
   ],
   "source": [
    "x,y,z=np.mgrid[-2:2:300j,-0:0:1j,-0:0:1j]\n",
    "\n",
    "u=0*x\n",
    "v=2*np.cos(20*x)\n",
    "w=np.sin(20*x)\n",
    "\n",
    "mlab.plot3d(x,v/5,w/5)\n",
    "mlab.plot3d(x,0*v,0*w)\n",
    "mlab.quiver3d(x,y,z,u,v,w)"
   ]
  },
  {
   "cell_type": "code",
   "execution_count": null,
   "id": "10ee15e6",
   "metadata": {},
   "outputs": [],
   "source": []
  }
 ],
 "metadata": {
  "kernelspec": {
   "display_name": "Python 3 (ipykernel)",
   "language": "python",
   "name": "python3"
  },
  "language_info": {
   "codemirror_mode": {
    "name": "ipython",
    "version": 3
   },
   "file_extension": ".py",
   "mimetype": "text/x-python",
   "name": "python",
   "nbconvert_exporter": "python",
   "pygments_lexer": "ipython3",
   "version": "3.9.13"
  }
 },
 "nbformat": 4,
 "nbformat_minor": 5
}
